{
 "cells": [
  {
   "cell_type": "code",
   "execution_count": 80,
   "id": "ed54d4d0-fbad-4a3a-ab96-69aae5f37516",
   "metadata": {
    "tags": []
   },
   "outputs": [],
   "source": [
    "## Libraries\n",
    "\n",
    "import sys\n",
    "sys.path.append('/home/jupyter/DS_O2_Tools')\n",
    "import pandas as pd\n",
    "import numpy as np\n",
    "from google.cloud import bigquery\n",
    "from google.cloud import storage\n",
    "import yaml\n",
    "import pickle\n",
    "import decimal\n",
    "\n",
    "import matplotlib.pyplot as plt\n",
    "from matplotlib.ticker import StrMethodFormatter\n",
    "from matplotlib.ticker import PercentFormatter\n",
    "import warnings;\n",
    "warnings.filterwarnings('ignore')\n",
    "from scipy import stats as st\n",
    "import random\n",
    "import os\n",
    "from pathlib import Path\n",
    "from typing import List, Dict\n",
    "from google.cloud import bigquery\n",
    "from mlops_pipelines.helpers.bigquery import get_schema_from_query_job, bq_schema_to_dtypes\n",
    "from tempfile import TemporaryDirectory\n",
    "from time import time\n",
    "\n",
    "\n",
    "from sklearn.metrics import roc_auc_score\n",
    "from sklearn.model_selection import train_test_split\n",
    "#from preprocessing import find_column_type, get_ct_feature_names, get_feature_out, custom_RFE, outlier_function_wrapper, evaluate_preprocessors, Transformer_target_encoder_multiclass, detect_features_high_number_nulls, FakeTransformer\n",
    "import seaborn as sns\n"
   ]
  },
  {
   "cell_type": "markdown",
   "id": "fe3adf8b-4ac5-45d8-a37a-b00496817924",
   "metadata": {},
   "source": [
    "## Loading Dataset from  pickle"
   ]
  },
  {
   "cell_type": "code",
   "execution_count": 81,
   "id": "e33c0677-f470-4cef-96b0-795a9f9c50b5",
   "metadata": {},
   "outputs": [],
   "source": [
    "\n",
    "df = pd.read_pickle('gs://jorquec_bucket/o2extras/o2extradataset3m.pickle')\n"
   ]
  },
  {
   "cell_type": "code",
   "execution_count": 82,
   "id": "cbb7d805-327e-4314-8edb-5c2c33ce9302",
   "metadata": {},
   "outputs": [
    {
     "data": {
      "text/plain": [
       "(36244, 211)"
      ]
     },
     "execution_count": 82,
     "metadata": {},
     "output_type": "execute_result"
    }
   ],
   "source": [
    "df.shape"
   ]
  },
  {
   "cell_type": "code",
   "execution_count": 83,
   "id": "c6bca5d2-3f89-4440-9a64-f1e1d40880af",
   "metadata": {},
   "outputs": [
    {
     "data": {
      "text/plain": [
       "0    34259\n",
       "1     1985\n",
       "Name: target, dtype: int64"
      ]
     },
     "execution_count": 83,
     "metadata": {},
     "output_type": "execute_result"
    }
   ],
   "source": [
    "df['target'].value_counts()"
   ]
  },
  {
   "cell_type": "code",
   "execution_count": 84,
   "id": "e1902fc8-be7e-4590-90c9-0e378e57b82a",
   "metadata": {},
   "outputs": [
    {
     "data": {
      "text/html": [
       "<div>\n",
       "<style scoped>\n",
       "    .dataframe tbody tr th:only-of-type {\n",
       "        vertical-align: middle;\n",
       "    }\n",
       "\n",
       "    .dataframe tbody tr th {\n",
       "        vertical-align: top;\n",
       "    }\n",
       "\n",
       "    .dataframe thead th {\n",
       "        text-align: right;\n",
       "    }\n",
       "</style>\n",
       "<table border=\"1\" class=\"dataframe\">\n",
       "  <thead>\n",
       "    <tr style=\"text-align: right;\">\n",
       "      <th></th>\n",
       "      <th>target</th>\n",
       "      <th>count</th>\n",
       "    </tr>\n",
       "  </thead>\n",
       "  <tbody>\n",
       "    <tr>\n",
       "      <th>0</th>\n",
       "      <td>0</td>\n",
       "      <td>0.945232</td>\n",
       "    </tr>\n",
       "    <tr>\n",
       "      <th>1</th>\n",
       "      <td>1</td>\n",
       "      <td>0.054768</td>\n",
       "    </tr>\n",
       "  </tbody>\n",
       "</table>\n",
       "</div>"
      ],
      "text/plain": [
       "   target     count\n",
       "0       0  0.945232\n",
       "1       1  0.054768"
      ]
     },
     "execution_count": 84,
     "metadata": {},
     "output_type": "execute_result"
    }
   ],
   "source": [
    "df[['target']].value_counts(normalize=True).reset_index(name='count')"
   ]
  },
  {
   "cell_type": "code",
   "execution_count": 85,
   "id": "f848520e-4047-4704-b8f8-714c2c0d9e38",
   "metadata": {},
   "outputs": [],
   "source": [
    "pd.set_option(\"display.max_columns\", 1000, \"display.max_rows\", 1000)"
   ]
  },
  {
   "cell_type": "code",
   "execution_count": 86,
   "id": "76b05770-0573-4ca6-b382-0a8f3e5e625b",
   "metadata": {},
   "outputs": [],
   "source": [
    "#Function from mlops_pipelines does not include \"BIGNUMERIC\" so defining it here\n",
    "def bq_schema_to_dtypes(bq_schema: List[Dict[str, str]]) -> Dict[str, str]:\n",
    "    mapping_dict = {\n",
    "        \"STRING\": \"str\",\n",
    "        \"INTEGER\": \"int\",\n",
    "        \"FLOAT\": \"float\",\n",
    "        \"NUMERIC\": \"float\",\n",
    "        \"BIGNUMERIC\": \"float\",\n",
    "        \"BOOLEAN\": \"bool\",\n",
    "    }\n",
    "    return {column[\"name\"]: mapping_dict.get(column[\"type\"], \"object\") for column in bq_schema}"
   ]
  },
  {
   "cell_type": "code",
   "execution_count": 87,
   "id": "b454f51b-71bd-428c-8705-3c06b01a729f",
   "metadata": {},
   "outputs": [
    {
     "name": "stdout",
     "output_type": "stream",
     "text": [
      "[]\n"
     ]
    }
   ],
   "source": [
    "# Identify and create a list of column names ending with \"_ID\"\n",
    "id_columns = [col for col in df.columns if col.endswith('_ID')]\n",
    "\n",
    "# Print the list of ID columns\n",
    "print(id_columns)"
   ]
  },
  {
   "cell_type": "code",
   "execution_count": 88,
   "id": "05fb750f-5b19-479f-b9a8-af1162c9c3f8",
   "metadata": {},
   "outputs": [
    {
     "name": "stdout",
     "output_type": "stream",
     "text": [
      "['ref_date', 'contract_start_date', 'load_date', 'tenure_dt']\n"
     ]
    }
   ],
   "source": [
    "# Identify and create a list of column names ending with \"_ID\"\n",
    "date_columns = [col for col in df.columns if col.endswith(('_DT','_DATE','_date','_dt'))]\n",
    "\n",
    "# Print the list of ID columns\n",
    "print(date_columns)\n",
    "\n",
    "# use load_date to stratify in the next step"
   ]
  },
  {
   "cell_type": "code",
   "execution_count": 89,
   "id": "d160158b-13b5-4cba-8050-a72acae51123",
   "metadata": {},
   "outputs": [],
   "source": [
    "## Drop date and timestamp columns\n",
    "\n",
    "df.drop([\"ref_date\",\n",
    "         \"contract_start_date\", \n",
    "         \"eff_from_timestamp\",\n",
    "         \"eff_to_timestamp\",\n",
    "         \"tenure_dt\",], axis = 1, inplace=True)"
   ]
  },
  {
   "cell_type": "code",
   "execution_count": 90,
   "id": "c2d97bd3-1d06-4f22-ab2f-404b7fa9548e",
   "metadata": {},
   "outputs": [],
   "source": [
    "df = df.drop('usi', axis=1)"
   ]
  },
  {
   "cell_type": "code",
   "execution_count": 91,
   "id": "f79edc51-758b-483c-8220-2973130de0a4",
   "metadata": {},
   "outputs": [],
   "source": [
    "# Drop REPEATED features and others used to identify target( I will use acorn_group)\n",
    "\n",
    "df.drop([\"acorn_type\",\n",
    "         \"new_acorn_cat_desc\", \n",
    "         \"perk_type1\",\n",
    "         \"perk_type2_later\",\n",
    "         \"perk_type2\",\n",
    "         \"product_id\",\n",
    "         \"product_type_1\",\n",
    "         \"product_type_2\",\n",
    "         \"product_name\",], axis = 1, inplace=True)\n"
   ]
  },
  {
   "cell_type": "code",
   "execution_count": 92,
   "id": "caa11eff-21af-4f45-a713-98c6a2005bc2",
   "metadata": {},
   "outputs": [],
   "source": [
    "# Drop features inputed in feature store and not available in CDM tables\n",
    "df.drop([\"online_competitor_visit_l1m\",\n",
    "         \"online_competitor_visit_l3m\", \"o2_4g_sig_strength_at_PC\",\n",
    "         \"device_screen\",\"device_price\",\"sharers_ind\",\"free_video_streaming\",\"second_hand_imei_hd\"  ], axis = 1, inplace=True)"
   ]
  },
  {
   "cell_type": "code",
   "execution_count": 93,
   "id": "e812aaf0-9cb3-49fa-9ab7-9459e4217dfb",
   "metadata": {},
   "outputs": [],
   "source": [
    "# Drop features used to filter base\n",
    "\n",
    "df = df.drop('CUSTOMER_CAT', axis=1)"
   ]
  },
  {
   "cell_type": "code",
   "execution_count": 94,
   "id": "0fb371f6-2385-4902-b7a8-c0801e1c8344",
   "metadata": {},
   "outputs": [
    {
     "name": "stdout",
     "output_type": "stream",
     "text": [
      "['cycle', 'contract_seq_no_adjusted', 'days_from_ced', 'ooc', 'resign_fanboy_group', 'channel_l1', 'sim_only_ind', 'mins_allowance', 'term', 'tenure_months', 'days_on_current_imei', 'tenure_desc', 'time_on_handset', 'age_id_2', 'familyplan_flag', 'spend_cap_level', 'contract_type', 'refresh', 'flex_refresh_flag', 'first_recent_channel', 'second_recent_channel', 'third_recent_channel', 'total_cs_mins', 'cs_int_flag', 'digital_int_flag', 'wc_int_flag', 'no_of_comms_3m', 'no_of_comms_6m', 'assisted_effort_dur', 'ecn_sent_flag_l1m', 'o2_wifi_days_last_30', 'o2_wifi_days_last_90', 'wifi', 'device_fanboy_group', 'subs', 'offering_subs_rev_inc_vat_amt', 'pac_request_l1m', 'credit_band', 'o2_travel_iz_flag', 'o2_travel_row_flag', 'multiple_mpn_flag', 'os_desc', 'device_os', 'iphone', 'vendor_desc_2', 'is_o25g_ind', 'hs_flag', 'simo_flag', 'total_isrl_browsing_time_l3m', 'isrl_browsing_time_cat', 'domestic_data_costs', 'avg_dom_data_costs', 'ch_dom_data_costs', 'no_of_cells_used', 'avg_tot_ic_cost', 'ch_tot_ic_cost', 'total_interconnect_cost', 'arpu', 'airtime_margin', 'avg_arpu', 'avg_airtime_margin', 'ch_arpu', 'ch_airtime_margin', 'revenue_amount', 'ch_billed_revenue', 'billed_revenue', 'avg_billed_revenue', 'c2m_ind', 'domestic_data_usage', 'total_voice_mins', 'total_voice_calls', 'avg_dom_data_usg', 'off_net_call_c', 'avg_offnet_call_c', 'avg_offnet_call_d', 'avg_standard_d', 'avg_standard_c', 'roam_data_usg', 'avg_roam_data_usg', 'avg_onnet_call_c', 'avg_onnet_call_d', 'voice_per', 'sms_per', 'per_offnet_call_c', 'per_offnet_call_d', 'per_onnet_call_d', 'ch_dom_data_usg', 'ch_offnet_call_d', 'ch_onnet_call_d', 'ch_standard_d', 'per_standard_d', 'ch_sms_c', 'per_sms_c', 'utilisation_band', 'utilisation', 'data_util', 'standard_d', 'standard_c', 'premium_costs', 'roaming_cost', 'avg_other_d', 'avg_sms_c', 'off_net_call_d', 'on_net_call_c', 'on_net_call_d', 'sms_c', 'myo2', 'my_o2_days_access_last_30', 'my_o2_days_access_last_90', 'retail_int_flag', 'online_upgrade_visit_l1m', 'interconnect_revenue', 'avg_ic_mob_day_r', 'avg_ic_natl_r', 'avg_tot_ic_rev', 'interconnect_natl_r', 'avg_ic_mob_eve_r', 'avg_ic_mob_wkd_r', 'avg_ic_sms_r', 'interconnect_mob_day_r', 'interconnect_sms_r', 'ch_ic_sms_r', 'ch_ic_natl_r', 'total_interconnect_rev', 'ch_tot_ic_rev', 'ch_ic_mob_wkd_r', 'mobile_broadband_ind', 'device_group_desc', 'tv_region_desc_2', 'data_uk_allow_mb_qty', 'plan_cca_ind', 'additional_data_allowance_1mth', 'additional_data_allowance_2mth', 'additional_data_allowance_3mth', 'in_bundle_data_usage_1mth', 'in_bundle_data_usage_2mth', 'in_bundle_data_usage_3mth', 'max_snacking_bought_l3m', 'age_grp_2', 'load_date', 'handset_price', 'insurance', 'opted_in_flag', 'ported_from_grp', 'ported_flag', 'simo_subscr_ids', 'handset_subscr_ids', 'total_sms_1st_5days', 'total_voice_count_1st_5days', 'total_voice_duration_1st_5days', 'total_data_usage_1st_5days', 'total_subscr_ids', 'no_of_current_connections', 'arrears', 'j6_total_duration_90', 'j7_total_duration_90', 'total_voice_count', 'domestic_voice_duration', 'comms_engaged_with', 'comms_delivered', 'tech_tariff', 'total_assist_duration_90', 'pac_requested_l12m', 'main_data_bolton_allowance', 'early_life', 'contract_month', 'bt_overbuild', 'alt_net_overbuild', 'target', 'extra_interactionjourney_30firstdays', 'extra_interactionbrow_duration_last30', 'extra_interactionbrow_duration_last60', 'extra_interactionbrow_duration_last90', 'extra_interactionbrow_duration_last120', 'extra_interactionbrow_duration_last150', 'extra_interactionbrow_duration_last180', 'acorn_group', 'gender_desc', 'broadband_provider_email', 'ave_ncx_l3m', 'ncx_days_0to20_l3m', 'ncx_days_20to40_l3m', 'ncx_days_40to60_l3m', 'ncx_days_60to80_l3m', 'ncx_days_80to100_l3m', 'ncx_score', 'final_data_allowance']\n"
     ]
    }
   ],
   "source": [
    "print(list(df.columns))"
   ]
  },
  {
   "cell_type": "code",
   "execution_count": 95,
   "id": "b032e4ed-681d-4ed4-bcef-dc8d12f4cf6b",
   "metadata": {},
   "outputs": [
    {
     "data": {
      "text/plain": [
       "(36244, 187)"
      ]
     },
     "execution_count": 95,
     "metadata": {},
     "output_type": "execute_result"
    }
   ],
   "source": [
    "df.shape"
   ]
  },
  {
   "cell_type": "code",
   "execution_count": 96,
   "id": "108dd144-8261-44a6-a5a5-23aebf691761",
   "metadata": {},
   "outputs": [],
   "source": [
    "def find_column_type(df):\n",
    "    \"\"\"\n",
    "    This function identify categorical, boolean and numerical values.\n",
    "\n",
    "    Parameters\n",
    "    ---------\n",
    "    df : DataFrame\n",
    "        Usually a DataFrame with training samples that will be used to fit a model.\n",
    "\n",
    "    Returns\n",
    "    -------\n",
    "    categorical_cols : list\n",
    "        Categorical features.\n",
    "    bool_cols:\n",
    "        Boolean features.\n",
    "    numerical_cols:\n",
    "        Numerical features.\n",
    "    \"\"\"\n",
    "    \n",
    "    all_cols=list(df.columns)\n",
    "    numerical_cols_temp = df.select_dtypes('number').columns\n",
    "    categorical_cols = list(set(all_cols) - set(numerical_cols_temp))\n",
    "    bool_cols = [col for col in all_cols if np.isin(df[col].dropna().unique(), [0,1,0.0,1.0]).all()]\n",
    "    numerical_cols = list(set(numerical_cols_temp) - set(bool_cols))\n",
    "    \n",
    "    return categorical_cols,bool_cols,numerical_cols"
   ]
  },
  {
   "cell_type": "code",
   "execution_count": 97,
   "id": "694d2419-5e0b-4b6b-911f-fbfef563390d",
   "metadata": {},
   "outputs": [],
   "source": [
    "categorical_cols, bool_cols, numerical_cols = find_column_type(df)"
   ]
  },
  {
   "cell_type": "code",
   "execution_count": 98,
   "id": "8b62ac4e-9dff-4f15-9a0f-7f1158da4014",
   "metadata": {},
   "outputs": [
    {
     "data": {
      "text/plain": [
       "106"
      ]
     },
     "execution_count": 98,
     "metadata": {},
     "output_type": "execute_result"
    }
   ],
   "source": [
    "len(numerical_cols)"
   ]
  },
  {
   "cell_type": "code",
   "execution_count": 99,
   "id": "487d6cfc-c8ab-4914-8a0b-6bd4330060c8",
   "metadata": {},
   "outputs": [
    {
     "data": {
      "text/plain": [
       "24"
      ]
     },
     "execution_count": 99,
     "metadata": {},
     "output_type": "execute_result"
    }
   ],
   "source": [
    "len(categorical_cols)"
   ]
  },
  {
   "cell_type": "code",
   "execution_count": 100,
   "id": "12000ff8-048f-4759-910c-5d4c00b6bc01",
   "metadata": {},
   "outputs": [
    {
     "data": {
      "text/plain": [
       "57"
      ]
     },
     "execution_count": 100,
     "metadata": {},
     "output_type": "execute_result"
    }
   ],
   "source": [
    "len(bool_cols)"
   ]
  },
  {
   "cell_type": "markdown",
   "id": "8ef57dc2-f7bb-4356-87b1-1ab60d8732fe",
   "metadata": {},
   "source": [
    "### Categorical features"
   ]
  },
  {
   "cell_type": "code",
   "execution_count": 101,
   "id": "8606b5f1-7905-4bb3-a771-609cb8ac8098",
   "metadata": {},
   "outputs": [
    {
     "name": "stdout",
     "output_type": "stream",
     "text": [
      "utilisation_band 8\n",
      "acorn_group 19\n",
      "gender_desc 4\n",
      "contract_type 4\n",
      "first_recent_channel 6\n",
      "age_grp_2 6\n",
      "third_recent_channel 7\n",
      "ported_from_grp 7\n",
      "tv_region_desc_2 15\n",
      "spend_cap_level 1\n",
      "second_recent_channel 7\n",
      "broadband_provider_email 12\n",
      "os_desc 4\n",
      "isrl_browsing_time_cat 7\n",
      "device_fanboy_group 8\n",
      "channel_l1 6\n",
      "vendor_desc_2 9\n",
      "tech_tariff 1\n",
      "tenure_desc 10\n",
      "device_os 22\n",
      "device_group_desc 4\n",
      "resign_fanboy_group 5\n",
      "load_date 3\n",
      "mobile_broadband_ind 2\n"
     ]
    }
   ],
   "source": [
    "for col in categorical_cols: print(col, len(df[col].dropna().unique()))"
   ]
  },
  {
   "cell_type": "code",
   "execution_count": 102,
   "id": "f24783df-ea42-494a-96fb-cda98cbc2fa5",
   "metadata": {},
   "outputs": [
    {
     "name": "stdout",
     "output_type": "stream",
     "text": [
      "None                   14951\n",
      "iOS                    13110\n",
      "Android                 7960\n",
      "NONE                      93\n",
      "Not Known                 56\n",
      "Nucleus                   22\n",
      "Not Known,iOS             17\n",
      "Windows Phone              6\n",
      "Android Wear               4\n",
      "S40                        4\n",
      "Linux                      3\n",
      "ThreadX                    3\n",
      "Android,Not Known          3\n",
      "Android,MTK                2\n",
      "S30                        2\n",
      "RTOS                       2\n",
      "Proprietary OS             1\n",
      "Android,Window 8           1\n",
      "Not known                  1\n",
      "Android,CyanogenMod        1\n",
      "Not known,iOS              1\n",
      "KaiOS                      1\n",
      "Name: device_os, dtype: int64\n"
     ]
    }
   ],
   "source": [
    "print(df['device_os'].value_counts(dropna=False))"
   ]
  },
  {
   "cell_type": "code",
   "execution_count": null,
   "id": "09785cc7-e8c2-4474-b110-4fe41b28250f",
   "metadata": {},
   "outputs": [],
   "source": [
    "#### Group some useless categories, dont do this, as catboost will deal with it."
   ]
  },
  {
   "cell_type": "code",
   "execution_count": 26,
   "id": "e3694585-3ae3-413c-a5f0-9d3c228a93d1",
   "metadata": {},
   "outputs": [],
   "source": [
    "######df[\"device_os\"].replace(['Not Known,iOS','Not known,iOS','Proprietary OS','RTOS',\n",
    " ##       'Windows Phone','Linux','Windows','Nucleus','ThreadX','KaiOS',\n",
    " ##       'Windows Mobile','S40','Android Wear','Not Known',\n",
    "  ##       'S30' ], \"Other\", inplace=True)"
   ]
  },
  {
   "cell_type": "code",
   "execution_count": 103,
   "id": "3974f345-5a52-4fe5-98d5-0f40c1f740a8",
   "metadata": {},
   "outputs": [],
   "source": [
    "categorical_cols, bool_cols, numerical_cols = find_column_type(df)"
   ]
  },
  {
   "cell_type": "code",
   "execution_count": 104,
   "id": "bd8bf7e7-3f1c-4541-8338-4926c6a46837",
   "metadata": {},
   "outputs": [],
   "source": [
    "categorical_cols.remove('load_date')"
   ]
  },
  {
   "cell_type": "code",
   "execution_count": 105,
   "id": "ca533beb-3638-43c5-8a1f-1ea7c7170be2",
   "metadata": {},
   "outputs": [],
   "source": [
    "#to remove the whitespace from the beginning and at the end of the string\n",
    "for col in categorical_cols:\n",
    "    df[col] = df[col].str.strip()\n"
   ]
  },
  {
   "cell_type": "code",
   "execution_count": 106,
   "id": "c2b0cdd7-0be4-45f1-aa9c-6e95a7591faf",
   "metadata": {},
   "outputs": [],
   "source": [
    "# This is needed because unexpectedly the way the data is read from bigquery using the mlops pipeline functions\n",
    "# infer null strings as 'None' (string). Reading it directly from bigquery in a notebook you get the expected\n",
    "# None though, so it must be something to do in the way they read it in the pipeline.\n",
    "df = df.replace(to_replace=['None'], value = np.nan)"
   ]
  },
  {
   "cell_type": "code",
   "execution_count": 107,
   "id": "ac94f8a2-b43f-4d23-981d-609202479c2a",
   "metadata": {},
   "outputs": [],
   "source": [
    "df = df.replace(to_replace=['NONE'], value = np.nan)"
   ]
  },
  {
   "cell_type": "code",
   "execution_count": 108,
   "id": "bd7a563b-1309-46d6-8c12-f43086b5aae2",
   "metadata": {
    "tags": []
   },
   "outputs": [
    {
     "name": "stdout",
     "output_type": "stream",
     "text": [
      "utilisation_band\n",
      "B.1-25%     18346\n",
      "A.0          5178\n",
      "C.26-50%     4806\n",
      "D.51-80%     2460\n",
      "NaN          2200\n",
      "F.100%+      1520\n",
      "E.81-99%     1317\n",
      "H. Unkno      417\n",
      "Name: utilisation_band, dtype: int64\n",
      "----------------------------------------------------------------\n",
      "acorn_group\n",
      "NaN                             9686\n",
      "1.B  Executive Wealth           3863\n",
      "3.H  Steady Neighbourhoods      2366\n",
      "1.C  Mature Money               2283\n",
      "4.M  Striving Families          2121\n",
      "2.E  Career Climbers            1802\n",
      "3.G  Successful Suburbs         1775\n",
      "4.L  Modest Means               1772\n",
      "5.P  Struggling Estates         1679\n",
      "3.J  Starting Out               1416\n",
      "3.F  Countryside Communities    1372\n",
      "5.O  Young Hardship             1222\n",
      "5.Q  Difficult Circumstances    1004\n",
      "2.D  City Sophisticates          957\n",
      "4.N  Poorer Pensioners           941\n",
      "6.R  Not Private Households      619\n",
      "3.I  Comfortable Seniors         560\n",
      "1.A  Lavish Lifestyles           460\n",
      "4.K  Student Life                346\n",
      "Name: acorn_group, dtype: int64\n",
      "----------------------------------------------------------------\n",
      "gender_desc\n",
      "Male       14449\n",
      "Female     11852\n",
      "NaN         9605\n",
      "Unknown      338\n",
      "Name: gender_desc, dtype: int64\n",
      "----------------------------------------------------------------\n",
      "contract_type\n",
      "NaN                14951\n",
      "Simo               12671\n",
      "Handset Refresh     7827\n",
      "Unknown              795\n",
      "Name: contract_type, dtype: int64\n",
      "----------------------------------------------------------------\n",
      "first_recent_channel\n",
      "Retention    19699\n",
      "Online       13992\n",
      "Retail        2143\n",
      "Franchise      302\n",
      "NaN            106\n",
      "DCP              2\n",
      "Name: first_recent_channel, dtype: int64\n",
      "----------------------------------------------------------------\n",
      "age_grp_2\n",
      "f. Unknown    9767\n",
      "b.31-40       6463\n",
      "e.60+         6323\n",
      "d.51-60       5089\n",
      "c.41-50       5075\n",
      "a.18-30       3527\n",
      "Name: age_grp_2, dtype: int64\n",
      "----------------------------------------------------------------\n",
      "third_recent_channel\n",
      "Online       18422\n",
      "NaN          17194\n",
      "Retention      437\n",
      "Retail         181\n",
      "Franchise        7\n",
      "Null             2\n",
      "DCP              1\n",
      "Name: third_recent_channel, dtype: int64\n",
      "----------------------------------------------------------------\n",
      "ported_from_grp\n",
      "Not ported                        34095\n",
      "Virgin Mobile Telecoms Limited     1076\n",
      "Other                               287\n",
      "EE                                  280\n",
      "Vodafone                            243\n",
      "Three                               184\n",
      "Sky Mobile                           79\n",
      "Name: ported_from_grp, dtype: int64\n",
      "----------------------------------------------------------------\n",
      "tv_region_desc_2\n",
      "NaN                     9766\n",
      "London                  5986\n",
      "Midlands                3179\n",
      "South and South-East    2955\n",
      "North West              2875\n",
      "Yorkshire               2871\n",
      "Scotland                2297\n",
      "East Of England         1889\n",
      "North East              1073\n",
      "West                    1032\n",
      "Northern Ireland         869\n",
      "Wales                    683\n",
      "South West               538\n",
      "Border                   227\n",
      "Islands                    4\n",
      "Name: tv_region_desc_2, dtype: int64\n",
      "----------------------------------------------------------------\n",
      "spend_cap_level\n",
      "NaN    36244\n",
      "Name: spend_cap_level, dtype: int64\n",
      "----------------------------------------------------------------\n",
      "second_recent_channel\n",
      "Online       23864\n",
      "NaN           9031\n",
      "Retention     2738\n",
      "Retail         593\n",
      "Franchise       15\n",
      "Null             2\n",
      "DCP              1\n",
      "Name: second_recent_channel, dtype: int64\n",
      "----------------------------------------------------------------\n",
      "broadband_provider_email\n",
      "other          23454\n",
      "NaN             9605\n",
      "btinternet       964\n",
      "aol              618\n",
      "ntlworld         424\n",
      "sky              416\n",
      "blueyonder       285\n",
      "virginmedia      208\n",
      "talktalk         126\n",
      "tiscali           68\n",
      "btopenworld       55\n",
      "btconnect         21\n",
      "Name: broadband_provider_email, dtype: int64\n",
      "----------------------------------------------------------------\n",
      "os_desc\n",
      "NaN           15157\n",
      "OSx           13110\n",
      "ANDROID        7971\n",
      "Symbian ^3        6\n",
      "Name: os_desc, dtype: int64\n",
      "----------------------------------------------------------------\n",
      "isrl_browsing_time_cat\n",
      "No browsing         20530\n",
      "NaN                 14388\n",
      "Over 30 minutes       982\n",
      "15 to 30 minutes      115\n",
      "5 to 15 minutes        83\n",
      "Up to 1 minute         74\n",
      "1 to 5 minutes         72\n",
      "Name: isrl_browsing_time_cat, dtype: int64\n",
      "----------------------------------------------------------------\n",
      "device_fanboy_group\n",
      "NaN                       23482\n",
      "Insufficient data          6940\n",
      "Existing Other Android     2650\n",
      "Floating Apple             1934\n",
      "Floating Other              867\n",
      "Floating Samsung            334\n",
      "Consistently Apple           31\n",
      "Consistently Samsung          6\n",
      "Name: device_fanboy_group, dtype: int64\n",
      "----------------------------------------------------------------\n",
      "channel_l1\n",
      "Telesales    19724\n",
      "Online       13968\n",
      "Retail        2142\n",
      "Franchise      302\n",
      "Other          106\n",
      "A1 Comms         2\n",
      "Name: channel_l1, dtype: int64\n",
      "----------------------------------------------------------------\n",
      "vendor_desc_2\n",
      "NaN        14951\n",
      "APPLE      13128\n",
      "SAMSUNG     5416\n",
      "OTHER       1796\n",
      "HUAWEI       485\n",
      "SONY         228\n",
      "ONEPLUS      206\n",
      "NOKIA         24\n",
      "HTC           10\n",
      "Name: vendor_desc_2, dtype: int64\n",
      "----------------------------------------------------------------\n",
      "tech_tariff\n",
      "NaN    36244\n",
      "Name: tech_tariff, dtype: int64\n",
      "----------------------------------------------------------------\n",
      "tenure_desc\n",
      "over 60mths     17550\n",
      "zero            11570\n",
      "up to 60 mth     2180\n",
      "up to 36 mth     1657\n",
      "up to 48 mth     1552\n",
      "up to 24 mth      643\n",
      "up to 18 mth      477\n",
      "up to 12 mth      336\n",
      "up to 3 mth       246\n",
      "up to 6 mth        33\n",
      "Name: tenure_desc, dtype: int64\n",
      "----------------------------------------------------------------\n",
      "device_os\n",
      "NaN                    15044\n",
      "iOS                    13110\n",
      "Android                 7960\n",
      "Not Known                 56\n",
      "Nucleus                   22\n",
      "Not Known,iOS             17\n",
      "Windows Phone              6\n",
      "Android Wear               4\n",
      "S40                        4\n",
      "Linux                      3\n",
      "ThreadX                    3\n",
      "Android,Not Known          3\n",
      "Android,MTK                2\n",
      "S30                        2\n",
      "RTOS                       2\n",
      "Proprietary OS             1\n",
      "Android,Window 8           1\n",
      "Not known                  1\n",
      "Android,CyanogenMod        1\n",
      "Not known,iOS              1\n",
      "KaiOS                      1\n",
      "Name: device_os, dtype: int64\n",
      "----------------------------------------------------------------\n",
      "device_group_desc\n",
      "SmartPhone    20898\n",
      "NaN           14951\n",
      "Unknown         316\n",
      "Tablet           79\n",
      "Name: device_group_desc, dtype: int64\n",
      "----------------------------------------------------------------\n",
      "resign_fanboy_group\n",
      "Consistently INC 7m+    24306\n",
      "Insufficient data       11735\n",
      "INC 0-1months             173\n",
      "INC 2-3months              24\n",
      "INC 4-6months               6\n",
      "Name: resign_fanboy_group, dtype: int64\n",
      "----------------------------------------------------------------\n",
      "mobile_broadband_ind\n",
      "N    36188\n",
      "Y       56\n",
      "Name: mobile_broadband_ind, dtype: int64\n",
      "----------------------------------------------------------------\n"
     ]
    }
   ],
   "source": [
    "for col in categorical_cols:\n",
    "    print(col)\n",
    "    print(df[col].value_counts(dropna=False))\n",
    "    print(\"----------------------------------------------------------------\")"
   ]
  },
  {
   "cell_type": "code",
   "execution_count": 109,
   "id": "438e9412-2118-486d-bdc8-d90c548fbb0f",
   "metadata": {},
   "outputs": [],
   "source": [
    "df = df.drop('tech_tariff', axis=1)  # 100% null"
   ]
  },
  {
   "cell_type": "code",
   "execution_count": 110,
   "id": "03331223-27d4-47a2-b125-2a38456937b5",
   "metadata": {},
   "outputs": [],
   "source": [
    "df[\"utilisation_band\"].replace(np.nan,\"H. Unkno\",inplace=True)\n",
    "df[\"isrl_browsing_time_cat\"].replace(np.nan,\"No browsing\",inplace=True)\n",
    "df[\"broadband_provider_email\"].replace(np.nan,\"other\",inplace=True)\n",
    "df[\"device_fanboy_group\"].replace(np.nan,\"unknown\",inplace=True)\n",
    "df[\"resign_fanboy_group\"].replace(np.nan,\"unknown\",inplace=True)\n",
    "df[\"gender_desc\"].replace(np.nan,\"Unknown\",inplace=True)\n",
    "df[\"tenure_desc\"].replace(np.nan,\"unknown\",inplace=True)\n",
    "df[\"device_group_desc\"].replace(np.nan,\"Unknown\",inplace=True)\n",
    "df[\"os_desc\"].replace(np.nan,\"Other\",inplace=True)\n",
    "df[\"age_grp_2\"].replace(np.nan,\"f. Unknown\",inplace=True)\n",
    "df[\"channel_l1\"].replace(np.nan,\"Other\",inplace=True)\n",
    "df[\"channel_l1\"].replace(\"Null\",\"Other\",inplace=True)\n",
    "df[\"acorn_group\"].replace(np.nan,\"Unknown\",inplace=True)\n",
    "df[\"vendor_desc_2\"].replace(np.nan,\"OTHER\",inplace=True)\n",
    "##df[\"new_acorn_cat_desc\"].replace(np.nan,\"unknown\",inplace=True)\n",
    "df[\"tv_region_desc_2\"].replace(np.nan,\"Unknown\",inplace=True)\n",
    "df[\"first_recent_channel\"].replace(np.nan,\"Other\",inplace=True)\n",
    "df[\"first_recent_channel\"].replace(\"Null\",\"Other\",inplace=True)\n",
    "df[\"second_recent_channel\"].replace(np.nan,\"Other\",inplace=True)\n",
    "df[\"second_recent_channel\"].replace(\"Null\",\"Other\",inplace=True)\n",
    "df[\"third_recent_channel\"].replace(np.nan,\"Other\",inplace=True)\n",
    "df[\"third_recent_channel\"].replace(\"Null\",\"Other\",inplace=True)\n",
    "df[\"spend_cap_level\"].replace(np.nan,\"unknown\",inplace=True)\n",
    "df[\"contract_type\"].replace(np.nan,\"Unknown\",inplace=True)\n",
    "df[\"ported_from_grp\"].replace(np.nan,\"Not ported\",inplace=True)\n",
    "df[\"device_os\"].replace(np.nan,\"Not Known\",inplace=True)\n",
    "##df[\"device_model\"].replace(np.nan,\"Other\",inplace=True)"
   ]
  },
  {
   "cell_type": "code",
   "execution_count": 111,
   "id": "a9fe6c85-87e3-41b5-bf5c-938ceaadad68",
   "metadata": {},
   "outputs": [
    {
     "name": "stdout",
     "output_type": "stream",
     "text": [
      "['cycle', 'contract_seq_no_adjusted', 'days_from_ced', 'ooc', 'resign_fanboy_group', 'channel_l1', 'sim_only_ind', 'mins_allowance', 'term', 'tenure_months', 'days_on_current_imei', 'tenure_desc', 'time_on_handset', 'age_id_2', 'familyplan_flag', 'spend_cap_level', 'contract_type', 'refresh', 'flex_refresh_flag', 'first_recent_channel', 'second_recent_channel', 'third_recent_channel', 'total_cs_mins', 'cs_int_flag', 'digital_int_flag', 'wc_int_flag', 'no_of_comms_3m', 'no_of_comms_6m', 'assisted_effort_dur', 'ecn_sent_flag_l1m', 'o2_wifi_days_last_30', 'o2_wifi_days_last_90', 'wifi', 'device_fanboy_group', 'subs', 'offering_subs_rev_inc_vat_amt', 'pac_request_l1m', 'credit_band', 'o2_travel_iz_flag', 'o2_travel_row_flag', 'multiple_mpn_flag', 'os_desc', 'device_os', 'iphone', 'vendor_desc_2', 'is_o25g_ind', 'hs_flag', 'simo_flag', 'total_isrl_browsing_time_l3m', 'isrl_browsing_time_cat', 'domestic_data_costs', 'avg_dom_data_costs', 'ch_dom_data_costs', 'no_of_cells_used', 'avg_tot_ic_cost', 'ch_tot_ic_cost', 'total_interconnect_cost', 'arpu', 'airtime_margin', 'avg_arpu', 'avg_airtime_margin', 'ch_arpu', 'ch_airtime_margin', 'revenue_amount', 'ch_billed_revenue', 'billed_revenue', 'avg_billed_revenue', 'c2m_ind', 'domestic_data_usage', 'total_voice_mins', 'total_voice_calls', 'avg_dom_data_usg', 'off_net_call_c', 'avg_offnet_call_c', 'avg_offnet_call_d', 'avg_standard_d', 'avg_standard_c', 'roam_data_usg', 'avg_roam_data_usg', 'avg_onnet_call_c', 'avg_onnet_call_d', 'voice_per', 'sms_per', 'per_offnet_call_c', 'per_offnet_call_d', 'per_onnet_call_d', 'ch_dom_data_usg', 'ch_offnet_call_d', 'ch_onnet_call_d', 'ch_standard_d', 'per_standard_d', 'ch_sms_c', 'per_sms_c', 'utilisation_band', 'utilisation', 'data_util', 'standard_d', 'standard_c', 'premium_costs', 'roaming_cost', 'avg_other_d', 'avg_sms_c', 'off_net_call_d', 'on_net_call_c', 'on_net_call_d', 'sms_c', 'myo2', 'my_o2_days_access_last_30', 'my_o2_days_access_last_90', 'retail_int_flag', 'online_upgrade_visit_l1m', 'interconnect_revenue', 'avg_ic_mob_day_r', 'avg_ic_natl_r', 'avg_tot_ic_rev', 'interconnect_natl_r', 'avg_ic_mob_eve_r', 'avg_ic_mob_wkd_r', 'avg_ic_sms_r', 'interconnect_mob_day_r', 'interconnect_sms_r', 'ch_ic_sms_r', 'ch_ic_natl_r', 'total_interconnect_rev', 'ch_tot_ic_rev', 'ch_ic_mob_wkd_r', 'mobile_broadband_ind', 'device_group_desc', 'tv_region_desc_2', 'data_uk_allow_mb_qty', 'plan_cca_ind', 'additional_data_allowance_1mth', 'additional_data_allowance_2mth', 'additional_data_allowance_3mth', 'in_bundle_data_usage_1mth', 'in_bundle_data_usage_2mth', 'in_bundle_data_usage_3mth', 'max_snacking_bought_l3m', 'age_grp_2', 'load_date', 'handset_price', 'insurance', 'opted_in_flag', 'ported_from_grp', 'ported_flag', 'simo_subscr_ids', 'handset_subscr_ids', 'total_sms_1st_5days', 'total_voice_count_1st_5days', 'total_voice_duration_1st_5days', 'total_data_usage_1st_5days', 'total_subscr_ids', 'no_of_current_connections', 'arrears', 'j6_total_duration_90', 'j7_total_duration_90', 'total_voice_count', 'domestic_voice_duration', 'comms_engaged_with', 'comms_delivered', 'total_assist_duration_90', 'pac_requested_l12m', 'main_data_bolton_allowance', 'early_life', 'contract_month', 'bt_overbuild', 'alt_net_overbuild', 'target', 'extra_interactionjourney_30firstdays', 'extra_interactionbrow_duration_last30', 'extra_interactionbrow_duration_last60', 'extra_interactionbrow_duration_last90', 'extra_interactionbrow_duration_last120', 'extra_interactionbrow_duration_last150', 'extra_interactionbrow_duration_last180', 'acorn_group', 'gender_desc', 'broadband_provider_email', 'ave_ncx_l3m', 'ncx_days_0to20_l3m', 'ncx_days_20to40_l3m', 'ncx_days_40to60_l3m', 'ncx_days_60to80_l3m', 'ncx_days_80to100_l3m', 'ncx_score', 'final_data_allowance']\n"
     ]
    }
   ],
   "source": [
    "print(list(df.columns))"
   ]
  },
  {
   "cell_type": "code",
   "execution_count": 112,
   "id": "2c50e4d2-845d-4f47-8651-15b200775b95",
   "metadata": {},
   "outputs": [],
   "source": [
    "## Convert y/n to boolean\n",
    "df['mobile_broadband_ind'].replace(['Y','N'],[1,0], inplace = True)"
   ]
  },
  {
   "cell_type": "code",
   "execution_count": 113,
   "id": "8148fc81-220f-4bb8-aeb6-019698aa341f",
   "metadata": {},
   "outputs": [],
   "source": [
    "#Finding cateorical, boolean and numerical features\n",
    "categorical_cols, bool_cols, numerical_cols = find_column_type(df)"
   ]
  },
  {
   "cell_type": "code",
   "execution_count": 114,
   "id": "5e30216f-cdbd-4224-bf2a-1c073a307e98",
   "metadata": {},
   "outputs": [],
   "source": [
    "#Lower case\n",
    "df.columns = [x.lower() for x in df.columns]"
   ]
  },
  {
   "cell_type": "markdown",
   "id": "5684045b-3fb1-4a71-8220-09c60318217e",
   "metadata": {},
   "source": [
    "### Numerical features "
   ]
  },
  {
   "cell_type": "code",
   "execution_count": 115,
   "id": "577d72fd-ae46-41b6-8cb0-0b048d525d24",
   "metadata": {},
   "outputs": [
    {
     "data": {
      "text/plain": [
       "avg_standard_c                    100.000000\n",
       "avg_standard_d                    100.000000\n",
       "max_snacking_bought_l3m           100.000000\n",
       "ch_ic_mob_wkd_r                   100.000000\n",
       "interconnect_mob_day_r            100.000000\n",
       "avg_ic_mob_wkd_r                  100.000000\n",
       "avg_ic_mob_eve_r                  100.000000\n",
       "avg_ic_mob_day_r                  100.000000\n",
       "ncx_days_20to40_l3m               100.000000\n",
       "interconnect_revenue              100.000000\n",
       "avg_other_d                       100.000000\n",
       "premium_costs                     100.000000\n",
       "ch_standard_d                     100.000000\n",
       "ch_ic_natl_r                       99.986205\n",
       "avg_ic_natl_r                      99.986205\n",
       "per_standard_d                     97.922415\n",
       "pac_requested_l12m                 97.194018\n",
       "pac_request_l1m                    97.194018\n",
       "o2_travel_row_flag                 95.858625\n",
       "total_sms_1st_5days                95.265423\n",
       "total_voice_count_1st_5days        94.981238\n",
       "total_voice_duration_1st_5days     94.981238\n",
       "total_data_usage_1st_5days         93.168524\n",
       "credit_band                        91.937976\n",
       "in_bundle_data_usage_3mth          81.497627\n",
       "o2_travel_iz_flag                  77.008608\n",
       "handset_price                      67.561527\n",
       "avg_roam_data_usg                  52.179671\n",
       "in_bundle_data_usage_2mth          46.989847\n",
       "ncx_score                          42.407019\n",
       "is_o25g_ind                        41.250966\n",
       "iphone                             41.250966\n",
       "days_on_current_imei               40.784682\n",
       "time_on_handset                    40.784682\n",
       "j6_total_duration_90               39.697605\n",
       "j7_total_duration_90               39.697605\n",
       "total_isrl_browsing_time_l3m       39.697605\n",
       "total_assist_duration_90           39.697605\n",
       "ncx_days_80to100_l3m               37.322040\n",
       "main_data_bolton_allowance         32.783357\n",
       "ncx_days_40to60_l3m                32.612294\n",
       "roaming_cost                       29.913917\n",
       "alt_net_overbuild                  27.149321\n",
       "bt_overbuild                       27.149321\n",
       "age_id_2                           26.947909\n",
       "ncx_days_60to80_l3m                26.470588\n",
       "ncx_days_0to20_l3m                 21.614612\n",
       "in_bundle_data_usage_1mth          19.401832\n",
       "avg_onnet_call_d                   18.455468\n",
       "ch_onnet_call_d                    18.455468\n",
       "avg_onnet_call_c                   18.455468\n",
       "per_onnet_call_d                   16.377883\n",
       "ch_ic_sms_r                        15.839863\n",
       "interconnect_sms_r                 15.770886\n",
       "avg_ic_sms_r                       15.602582\n",
       "ch_sms_c                           13.949895\n",
       "handset_subscr_ids                 13.461538\n",
       "multiple_mpn_flag                  13.461538\n",
       "total_subscr_ids                   13.461538\n",
       "simo_subscr_ids                    13.461538\n",
       "no_of_current_connections          13.461538\n",
       "ch_tot_ic_cost                     13.130449\n",
       "avg_tot_ic_cost                    13.130449\n",
       "total_interconnect_cost            13.053195\n",
       "ave_ncx_l3m                        13.009050\n",
       "ch_dom_data_costs                  11.761947\n",
       "avg_dom_data_costs                 11.761947\n",
       "domestic_data_costs                11.541221\n",
       "data_uk_allow_mb_qty               11.221168\n",
       "no_of_cells_used                   11.215649\n",
       "ch_dom_data_usg                    10.020969\n",
       "interconnect_natl_r                 9.987860\n",
       "avg_tot_ic_rev                      9.929919\n",
       "ch_tot_ic_rev                       9.929919\n",
       "airtime_margin                      9.819556\n",
       "avg_airtime_margin                  9.819556\n",
       "ch_arpu                             9.819556\n",
       "avg_arpu                            9.819556\n",
       "ch_airtime_margin                   9.819556\n",
       "arpu                                9.819556\n",
       "total_interconnect_rev              9.811279\n",
       "avg_offnet_call_c                   8.657985\n",
       "avg_offnet_call_d                   8.657985\n",
       "ch_offnet_call_d                    8.657985\n",
       "sms_per                             8.282750\n",
       "voice_per                           8.282750\n",
       "per_offnet_call_c                   6.803885\n",
       "per_offnet_call_d                   6.580400\n",
       "hs_flag                             6.381746\n",
       "simo_flag                           6.381746\n",
       "utilisation                         6.069970\n",
       "data_util                           6.069970\n",
       "sms_c                               6.017548\n",
       "avg_dom_data_usg                    6.014789\n",
       "roam_data_usg                       6.014789\n",
       "off_net_call_c                      6.014789\n",
       "per_sms_c                           6.014789\n",
       "standard_d                          6.014789\n",
       "standard_c                          6.014789\n",
       "total_voice_count                   6.014789\n",
       "domestic_voice_duration             6.014789\n",
       "avg_sms_c                           6.014789\n",
       "off_net_call_d                      6.014789\n",
       "on_net_call_c                       6.014789\n",
       "on_net_call_d                       6.014789\n",
       "total_voice_mins                    6.014789\n",
       "domestic_data_usage                 6.014789\n",
       "total_voice_calls                   6.014789\n",
       "mins_allowance                      1.305044\n",
       "final_data_allowance                0.560093\n",
       "ch_billed_revenue                   0.091050\n",
       "cycle                               0.066218\n",
       "contract_seq_no_adjusted            0.066218\n",
       "billed_revenue                      0.022073\n",
       "revenue_amount                      0.022073\n",
       "avg_billed_revenue                  0.019314\n",
       "familyplan_flag                     0.016554\n",
       "c2m_ind                             0.016554\n",
       "ecn_sent_flag_l1m                   0.013795\n",
       "total_cs_mins                       0.013795\n",
       "cs_int_flag                         0.013795\n",
       "digital_int_flag                    0.013795\n",
       "wc_int_flag                         0.013795\n",
       "no_of_comms_3m                      0.013795\n",
       "no_of_comms_6m                      0.013795\n",
       "assisted_effort_dur                 0.013795\n",
       "online_upgrade_visit_l1m            0.013795\n",
       "o2_wifi_days_last_30                0.013795\n",
       "o2_wifi_days_last_90                0.013795\n",
       "retail_int_flag                     0.013795\n",
       "comms_delivered                     0.013795\n",
       "comms_engaged_with                  0.013795\n",
       "myo2                                0.013795\n",
       "my_o2_days_access_last_30           0.013795\n",
       "my_o2_days_access_last_90           0.013795\n",
       "wifi                                0.013795\n",
       "dtype: float64"
      ]
     },
     "execution_count": 115,
     "metadata": {},
     "output_type": "execute_result"
    }
   ],
   "source": [
    "#Null values\n",
    "\n",
    "nans = df.isna().sum()/df.shape[0] *100\n",
    "nans[nans>0].sort_values(ascending=False)"
   ]
  },
  {
   "cell_type": "code",
   "execution_count": 116,
   "id": "e2d01116-78b6-4f9e-b19d-5688d6796ffe",
   "metadata": {},
   "outputs": [],
   "source": [
    "# Identify and create a list of features with many Nulls - just check \n",
    "\n",
    "majoritynull = [col for col in df.columns if (df[col].isna().sum()/ df.shape[0] *100) > 99.0]                                          "
   ]
  },
  {
   "cell_type": "code",
   "execution_count": 117,
   "id": "b7f3b49c-d630-4975-affe-8771ad02963e",
   "metadata": {},
   "outputs": [
    {
     "data": {
      "text/plain": [
       "['avg_standard_d',\n",
       " 'avg_standard_c',\n",
       " 'ch_standard_d',\n",
       " 'premium_costs',\n",
       " 'avg_other_d',\n",
       " 'interconnect_revenue',\n",
       " 'avg_ic_mob_day_r',\n",
       " 'avg_ic_natl_r',\n",
       " 'avg_ic_mob_eve_r',\n",
       " 'avg_ic_mob_wkd_r',\n",
       " 'interconnect_mob_day_r',\n",
       " 'ch_ic_natl_r',\n",
       " 'ch_ic_mob_wkd_r',\n",
       " 'max_snacking_bought_l3m',\n",
       " 'ncx_days_20to40_l3m']"
      ]
     },
     "execution_count": 117,
     "metadata": {},
     "output_type": "execute_result"
    }
   ],
   "source": [
    "majoritynull"
   ]
  },
  {
   "cell_type": "code",
   "execution_count": 118,
   "id": "d10f8e37-0ab0-4d89-a763-3ad9bfcd325e",
   "metadata": {},
   "outputs": [],
   "source": [
    "# Remove high null columns   I will keep it  as it could be only data deffect?\n",
    "#df = df.drop(columns=majoritynull)"
   ]
  },
  {
   "cell_type": "code",
   "execution_count": 119,
   "id": "30889073-73bf-4200-969e-deaa2c3d4c36",
   "metadata": {},
   "outputs": [],
   "source": [
    "##  Checks Unique Values and  Variance"
   ]
  },
  {
   "cell_type": "code",
   "execution_count": 120,
   "id": "63f78875-79c7-4c0f-9e73-f236fc2cad3d",
   "metadata": {},
   "outputs": [
    {
     "data": {
      "text/plain": [
       "['ooc',\n",
       " 'spend_cap_level',\n",
       " 'refresh',\n",
       " 'flex_refresh_flag',\n",
       " 'avg_standard_d',\n",
       " 'avg_standard_c',\n",
       " 'ch_standard_d',\n",
       " 'premium_costs',\n",
       " 'avg_other_d',\n",
       " 'interconnect_revenue',\n",
       " 'avg_ic_mob_day_r',\n",
       " 'avg_ic_mob_eve_r',\n",
       " 'avg_ic_mob_wkd_r',\n",
       " 'interconnect_mob_day_r',\n",
       " 'ch_ic_mob_wkd_r',\n",
       " 'additional_data_allowance_1mth',\n",
       " 'additional_data_allowance_2mth',\n",
       " 'additional_data_allowance_3mth',\n",
       " 'max_snacking_bought_l3m',\n",
       " 'early_life',\n",
       " 'ncx_days_20to40_l3m']"
      ]
     },
     "execution_count": 120,
     "metadata": {},
     "output_type": "execute_result"
    }
   ],
   "source": [
    "cols_to_drop = [col for col in df.columns if len(df[col].unique()) == 1]\n",
    "cols_to_drop"
   ]
  },
  {
   "cell_type": "code",
   "execution_count": 121,
   "id": "37888fe3-50a2-4cf3-9b97-4f482ae04701",
   "metadata": {},
   "outputs": [],
   "source": [
    "# Now looking at & dropping other colums with low variance."
   ]
  },
  {
   "cell_type": "code",
   "execution_count": 122,
   "id": "96db3a29-faf3-4af2-8836-ee498ca876fc",
   "metadata": {},
   "outputs": [
    {
     "data": {
      "text/plain": [
       "ooc                               0.000000\n",
       "familyplan_flag                   0.000000\n",
       "refresh                           0.000000\n",
       "flex_refresh_flag                 0.000000\n",
       "total_cs_mins                     0.000000\n",
       "cs_int_flag                       0.005253\n",
       "assisted_effort_dur               0.000000\n",
       "ecn_sent_flag_l1m                 0.027286\n",
       "o2_wifi_days_last_30              0.000000\n",
       "o2_wifi_days_last_90              0.000000\n",
       "o2_travel_iz_flag                 0.000000\n",
       "o2_travel_row_flag                0.000000\n",
       "multiple_mpn_flag                 0.000000\n",
       "is_o25g_ind                       0.000000\n",
       "hs_flag                           0.005429\n",
       "simo_flag                         0.000000\n",
       "c2m_ind                           0.000000\n",
       "per_standard_d                    0.000000\n",
       "standard_d                        0.000000\n",
       "standard_c                        0.000000\n",
       "myo2                              0.000000\n",
       "my_o2_days_access_last_30         0.000000\n",
       "my_o2_days_access_last_90         0.000000\n",
       "online_upgrade_visit_l1m          0.016610\n",
       "avg_ic_natl_r                     0.038839\n",
       "mobile_broadband_ind              0.039278\n",
       "additional_data_allowance_1mth    0.000000\n",
       "additional_data_allowance_2mth    0.000000\n",
       "additional_data_allowance_3mth    0.000000\n",
       "pac_requested_l12m                0.000000\n",
       "early_life                        0.000000\n",
       "dtype: float64"
      ]
     },
     "execution_count": 122,
     "metadata": {},
     "output_type": "execute_result"
    }
   ],
   "source": [
    "pd.set_option('display.max_rows', None)\n",
    "threshold = 0.05\n",
    "df.std()[df.std() < threshold]"
   ]
  },
  {
   "cell_type": "code",
   "execution_count": 47,
   "id": "04abf477-b7ae-4ca1-8a72-915b1ccbd0c7",
   "metadata": {},
   "outputs": [],
   "source": [
    "# drop some that contain only nulls"
   ]
  },
  {
   "cell_type": "code",
   "execution_count": 123,
   "id": "5b5fb6db-683d-4683-821e-27aae80f0482",
   "metadata": {},
   "outputs": [],
   "source": [
    "cols_to_drop = ['familyplan_flag',\n",
    "                'total_cs_mins',\n",
    "                'assisted_effort_dur',\n",
    "                'o2_wifi_days_last_30',\n",
    "                'o2_wifi_days_last_90',\n",
    "                'o2_travel_iz_flag',\n",
    "                'c2m_ind',\n",
    "                'per_standard_d',\n",
    "                'standard_d',\n",
    "                'myo2',\n",
    "                'my_o2_days_access_last_30',\n",
    "                'my_o2_days_access_last_90',\n",
    "                'additional_data_allowance_1mth',\n",
    "                'additional_data_allowance_2mth',\n",
    "                'additional_data_allowance_3mth',\n",
    "                'standard_c',\n",
    "                'is_o25g_ind',\n",
    "                'o2_travel_row_flag',\n",
    "                'max_snacking_bought_l3m'\n",
    "                ]\n",
    "df=df.drop(cols_to_drop,axis=1)"
   ]
  },
  {
   "cell_type": "code",
   "execution_count": 124,
   "id": "8af38b3c-827f-4efc-aaa3-c1c6055f0e50",
   "metadata": {},
   "outputs": [],
   "source": [
    "cols_to_drop2 = ['avg_standard_d',\n",
    "                 'avg_standard_c',\n",
    "                 'ch_standard_d',\n",
    "                 'premium_costs',\n",
    "                 'avg_other_d',\n",
    "                 'online_upgrade_visit_l1m',\n",
    "                 'interconnect_revenue',\n",
    "                 'avg_ic_mob_day_r',\n",
    "                 'avg_ic_mob_eve_r',\n",
    "                 'avg_ic_mob_wkd_r',\n",
    "                 'interconnect_mob_day_r',\n",
    "                 'ch_ic_mob_wkd_r',\n",
    "                 'ncx_days_20to40_l3m'\n",
    "                ]\n",
    "df=df.drop(cols_to_drop2,axis=1)"
   ]
  },
  {
   "cell_type": "code",
   "execution_count": 125,
   "id": "8847b73f-9d3f-44a2-b8b1-42c410b6bd6e",
   "metadata": {},
   "outputs": [
    {
     "data": {
      "text/plain": [
       "(36244, 154)"
      ]
     },
     "execution_count": 125,
     "metadata": {},
     "output_type": "execute_result"
    }
   ],
   "source": [
    "df.shape"
   ]
  },
  {
   "cell_type": "code",
   "execution_count": 126,
   "id": "bb1fd7f2-66a1-4f31-9a8c-cd489e8f11b2",
   "metadata": {},
   "outputs": [],
   "source": [
    "categorical_cols, bool_cols, numerical_cols = find_column_type(df)"
   ]
  },
  {
   "cell_type": "code",
   "execution_count": 127,
   "id": "d8beea38-d185-483a-a1a5-0e614fb647e2",
   "metadata": {},
   "outputs": [],
   "source": [
    "categorical_cols.remove('load_date')"
   ]
  },
  {
   "cell_type": "markdown",
   "id": "328bd38a-21b4-4804-a0ac-36e3cf618c0c",
   "metadata": {},
   "source": [
    "### Boolean features"
   ]
  },
  {
   "cell_type": "code",
   "execution_count": 128,
   "id": "f94f0ab0-c71b-4af4-b115-c11be6afcbe1",
   "metadata": {},
   "outputs": [
    {
     "data": {
      "text/plain": [
       "['ooc',\n",
       " 'sim_only_ind',\n",
       " 'refresh',\n",
       " 'flex_refresh_flag',\n",
       " 'cs_int_flag',\n",
       " 'digital_int_flag',\n",
       " 'wc_int_flag',\n",
       " 'ecn_sent_flag_l1m',\n",
       " 'wifi',\n",
       " 'pac_request_l1m',\n",
       " 'multiple_mpn_flag',\n",
       " 'iphone',\n",
       " 'hs_flag',\n",
       " 'simo_flag',\n",
       " 'retail_int_flag',\n",
       " 'mobile_broadband_ind',\n",
       " 'plan_cca_ind',\n",
       " 'insurance',\n",
       " 'opted_in_flag',\n",
       " 'ported_flag',\n",
       " 'arrears',\n",
       " 'pac_requested_l12m',\n",
       " 'early_life',\n",
       " 'bt_overbuild',\n",
       " 'alt_net_overbuild',\n",
       " 'target']"
      ]
     },
     "execution_count": 128,
     "metadata": {},
     "output_type": "execute_result"
    }
   ],
   "source": [
    "bool_cols"
   ]
  },
  {
   "cell_type": "code",
   "execution_count": 129,
   "id": "561590c3-78b1-47cd-915b-e99c0ac81fb3",
   "metadata": {},
   "outputs": [
    {
     "data": {
      "text/plain": [
       "cs_int_flag            0.013795\n",
       "digital_int_flag       0.013795\n",
       "wc_int_flag            0.013795\n",
       "ecn_sent_flag_l1m      0.013795\n",
       "wifi                   0.013795\n",
       "pac_request_l1m       97.194018\n",
       "multiple_mpn_flag     13.461538\n",
       "iphone                41.250966\n",
       "hs_flag                6.381746\n",
       "simo_flag              6.381746\n",
       "retail_int_flag        0.013795\n",
       "pac_requested_l12m    97.194018\n",
       "bt_overbuild          27.149321\n",
       "alt_net_overbuild     27.149321\n",
       "dtype: float64"
      ]
     },
     "execution_count": 129,
     "metadata": {},
     "output_type": "execute_result"
    }
   ],
   "source": [
    "nans = df[bool_cols].isna().sum()/df.shape[0] *100\n",
    "nans[nans>0]"
   ]
  },
  {
   "cell_type": "code",
   "execution_count": 130,
   "id": "dd415696-1821-4f8f-845d-52967295ec80",
   "metadata": {},
   "outputs": [
    {
     "name": "stdout",
     "output_type": "stream",
     "text": [
      "ooc\n",
      "0    36244\n",
      "Name: ooc, dtype: int64\n",
      "----------------------------------------------------------------\n",
      "sim_only_ind\n",
      "1    23776\n",
      "0    12468\n",
      "Name: sim_only_ind, dtype: int64\n",
      "----------------------------------------------------------------\n",
      "refresh\n",
      "0    36244\n",
      "Name: refresh, dtype: int64\n",
      "----------------------------------------------------------------\n",
      "flex_refresh_flag\n",
      "0    36244\n",
      "Name: flex_refresh_flag, dtype: int64\n",
      "----------------------------------------------------------------\n",
      "cs_int_flag\n",
      "0.0    36238\n",
      "NaN        5\n",
      "1.0        1\n",
      "Name: cs_int_flag, dtype: int64\n",
      "----------------------------------------------------------------\n",
      "digital_int_flag\n",
      "0.0    18613\n",
      "1.0    17626\n",
      "NaN        5\n",
      "Name: digital_int_flag, dtype: int64\n",
      "----------------------------------------------------------------\n",
      "wc_int_flag\n",
      "0.0    34496\n",
      "1.0     1743\n",
      "NaN        5\n",
      "Name: wc_int_flag, dtype: int64\n",
      "----------------------------------------------------------------\n",
      "ecn_sent_flag_l1m\n",
      "0.0    36212\n",
      "1.0       27\n",
      "NaN        5\n",
      "Name: ecn_sent_flag_l1m, dtype: int64\n",
      "----------------------------------------------------------------\n",
      "wifi\n",
      "0.0    26639\n",
      "1.0     9600\n",
      "NaN        5\n",
      "Name: wifi, dtype: int64\n",
      "----------------------------------------------------------------\n",
      "pac_request_l1m\n",
      "NaN    35227\n",
      "1.0      948\n",
      "0.0       69\n",
      "Name: pac_request_l1m, dtype: int64\n",
      "----------------------------------------------------------------\n",
      "multiple_mpn_flag\n",
      "0.0    31365\n",
      "NaN     4879\n",
      "Name: multiple_mpn_flag, dtype: int64\n",
      "----------------------------------------------------------------\n",
      "iphone\n",
      "NaN    14951\n",
      "1.0    13057\n",
      "0.0     8236\n",
      "Name: iphone, dtype: int64\n",
      "----------------------------------------------------------------\n",
      "hs_flag\n",
      "0.0    33930\n",
      "NaN     2313\n",
      "1.0        1\n",
      "Name: hs_flag, dtype: int64\n",
      "----------------------------------------------------------------\n",
      "simo_flag\n",
      "0.0    33931\n",
      "NaN     2313\n",
      "Name: simo_flag, dtype: int64\n",
      "----------------------------------------------------------------\n",
      "retail_int_flag\n",
      "0.0    35944\n",
      "1.0      295\n",
      "NaN        5\n",
      "Name: retail_int_flag, dtype: int64\n",
      "----------------------------------------------------------------\n",
      "mobile_broadband_ind\n",
      "0    36188\n",
      "1       56\n",
      "Name: mobile_broadband_ind, dtype: int64\n",
      "----------------------------------------------------------------\n",
      "plan_cca_ind\n",
      "0    23779\n",
      "1    12465\n",
      "Name: plan_cca_ind, dtype: int64\n",
      "----------------------------------------------------------------\n",
      "insurance\n",
      "0    35521\n",
      "1      723\n",
      "Name: insurance, dtype: int64\n",
      "----------------------------------------------------------------\n",
      "opted_in_flag\n",
      "0    26928\n",
      "1     9316\n",
      "Name: opted_in_flag, dtype: int64\n",
      "----------------------------------------------------------------\n",
      "ported_flag\n",
      "0    34095\n",
      "1     2149\n",
      "Name: ported_flag, dtype: int64\n",
      "----------------------------------------------------------------\n",
      "arrears\n",
      "0    35684\n",
      "1      560\n",
      "Name: arrears, dtype: int64\n",
      "----------------------------------------------------------------\n",
      "pac_requested_l12m\n",
      "NaN    35227\n",
      "1.0     1017\n",
      "Name: pac_requested_l12m, dtype: int64\n",
      "----------------------------------------------------------------\n",
      "early_life\n",
      "1    36244\n",
      "Name: early_life, dtype: int64\n",
      "----------------------------------------------------------------\n",
      "bt_overbuild\n",
      "0.0    18569\n",
      "NaN     9840\n",
      "1.0     7835\n",
      "Name: bt_overbuild, dtype: int64\n",
      "----------------------------------------------------------------\n",
      "alt_net_overbuild\n",
      "0.0    21141\n",
      "NaN     9840\n",
      "1.0     5263\n",
      "Name: alt_net_overbuild, dtype: int64\n",
      "----------------------------------------------------------------\n",
      "target\n",
      "0    34259\n",
      "1     1985\n",
      "Name: target, dtype: int64\n",
      "----------------------------------------------------------------\n"
     ]
    }
   ],
   "source": [
    "for col in bool_cols:\n",
    "    print(col)\n",
    "    print(df[col].value_counts(dropna=False))\n",
    "    print(\"----------------------------------------------------------------\")"
   ]
  },
  {
   "cell_type": "code",
   "execution_count": 131,
   "id": "501c885a-d27b-41c4-973f-2278b648c3ca",
   "metadata": {},
   "outputs": [],
   "source": [
    "# Check Correlation--"
   ]
  },
  {
   "cell_type": "code",
   "execution_count": 56,
   "id": "a9588a53-3dbb-49f9-a8c1-bfb356de3611",
   "metadata": {},
   "outputs": [
    {
     "name": "stdout",
     "output_type": "stream",
     "text": [
      "Top Absolute Correlations\n",
      "total_isrl_browsing_time_l3m            j7_total_duration_90                      1.000000\n",
      "extra_interactionbrow_duration_last180  extra_interactionbrow_duration_last90     1.000000\n",
      "offering_subs_rev_inc_vat_amt           subs                                      1.000000\n",
      "data_util                               utilisation                               1.000000\n",
      "term                                    contract_month                            1.000000\n",
      "extra_interactionbrow_duration_last180  extra_interactionbrow_duration_last150    1.000000\n",
      "extra_interactionbrow_duration_last150  extra_interactionbrow_duration_last90     1.000000\n",
      "extra_interactionbrow_duration_last180  extra_interactionbrow_duration_last120    1.000000\n",
      "extra_interactionbrow_duration_last30   extra_interactionbrow_duration_last60     1.000000\n",
      "extra_interactionbrow_duration_last120  extra_interactionbrow_duration_last90     1.000000\n",
      "cycle                                   contract_seq_no_adjusted                  1.000000\n",
      "time_on_handset                         days_on_current_imei                      1.000000\n",
      "extra_interactionbrow_duration_last150  extra_interactionbrow_duration_last120    1.000000\n",
      "voice_per                               sms_per                                   1.000000\n",
      "term                                    days_from_ced                             0.999321\n",
      "contract_month                          days_from_ced                             0.999321\n",
      "interconnect_natl_r                     total_interconnect_rev                    0.998629\n",
      "avg_ic_natl_r                           data_uk_allow_mb_qty                      0.994290\n",
      "final_data_allowance                    avg_ic_natl_r                             0.993476\n",
      "avg_arpu                                avg_airtime_margin                        0.990868\n",
      "age_id_2                                ch_ic_natl_r                              0.990289\n",
      "billed_revenue                          revenue_amount                            0.986040\n",
      "sms_per                                 per_sms_c                                 0.981685\n",
      "voice_per                               per_sms_c                                 0.981685\n",
      "avg_roam_data_usg                       roam_data_usg                             0.981204\n",
      "ncx_score                               avg_ic_natl_r                             0.970725\n",
      "ncx_days_60to80_l3m                     avg_ic_natl_r                             0.968825\n",
      "extra_interactionbrow_duration_last120  extra_interactionbrow_duration_last60     0.966380\n",
      "extra_interactionbrow_duration_last90   extra_interactionbrow_duration_last60     0.966380\n",
      "extra_interactionbrow_duration_last150  extra_interactionbrow_duration_last60     0.966380\n",
      "extra_interactionbrow_duration_last180  extra_interactionbrow_duration_last30     0.966380\n",
      "extra_interactionbrow_duration_last150  extra_interactionbrow_duration_last30     0.966380\n",
      "extra_interactionbrow_duration_last180  extra_interactionbrow_duration_last60     0.966380\n",
      "extra_interactionbrow_duration_last30   extra_interactionbrow_duration_last120    0.966380\n",
      "                                        extra_interactionbrow_duration_last90     0.966380\n",
      "total_voice_count                       ch_ic_natl_r                              0.964337\n",
      "domestic_data_usage                     avg_dom_data_usg                          0.962177\n",
      "avg_tot_ic_cost                         total_interconnect_cost                   0.955249\n",
      "total_voice_calls                       off_net_call_c                            0.954281\n",
      "avg_ic_sms_r                            interconnect_sms_r                        0.950371\n",
      "dtype: float64\n"
     ]
    }
   ],
   "source": [
    "# Create correlation matrix\n",
    "def get_redundant_pairs(df):\n",
    "    '''Get diagonal and lower triangular pairs of correlation matrix'''\n",
    "    pairs_to_drop = set()\n",
    "    cols = df[numerical_cols].columns\n",
    "    for i in range(0, df.shape[1]):\n",
    "        for j in range(0, i+1):\n",
    "            pairs_to_drop.add((cols[i], cols[j]))\n",
    "    return pairs_to_drop\n",
    "\n",
    "def get_top_abs_correlations(df, n=5):\n",
    "    au_corr = df[numerical_cols].corr().abs().unstack()\n",
    "    labels_to_drop = get_redundant_pairs(df[numerical_cols])\n",
    "    au_corr = au_corr.drop(labels=labels_to_drop).sort_values(ascending=False)\n",
    "    return au_corr[0:n]\n",
    "\n",
    "print(\"Top Absolute Correlations\")\n",
    "print(get_top_abs_correlations(df, 40))"
   ]
  },
  {
   "cell_type": "code",
   "execution_count": 132,
   "id": "9cf3a2fa-dbb3-4e0d-b5aa-13a28f7b3a6d",
   "metadata": {},
   "outputs": [],
   "source": [
    "# drop a subset \n",
    "\n",
    "corrs=['contract_seq_no_adjusted','j7_total_duration_90','utilisation','offering_subs_rev_inc_vat_amt',\n",
    "        'contract_month','days_on_current_imei','voice_per']"
   ]
  },
  {
   "cell_type": "code",
   "execution_count": 133,
   "id": "ff5a78c6-e920-4585-a8db-20e2eb41242b",
   "metadata": {},
   "outputs": [
    {
     "data": {
      "text/plain": [
       "(36244, 154)"
      ]
     },
     "execution_count": 133,
     "metadata": {},
     "output_type": "execute_result"
    }
   ],
   "source": [
    "df.shape"
   ]
  },
  {
   "cell_type": "code",
   "execution_count": 134,
   "id": "9acfedef-fefc-4259-9c21-71f6af4bedc9",
   "metadata": {},
   "outputs": [],
   "source": [
    "# As intending to use CatGBoost not very concerned about correlated variables,\n",
    "#deleted only 100% correlated"
   ]
  },
  {
   "cell_type": "code",
   "execution_count": 135,
   "id": "ba5f4078-5443-49dd-9298-4e276c2d0c5f",
   "metadata": {},
   "outputs": [],
   "source": [
    "df = df.drop(columns=corrs)"
   ]
  },
  {
   "cell_type": "code",
   "execution_count": 136,
   "id": "27981e54-e7c9-4259-a1d0-194fcc29c972",
   "metadata": {},
   "outputs": [
    {
     "data": {
      "text/plain": [
       "(36244, 147)"
      ]
     },
     "execution_count": 136,
     "metadata": {},
     "output_type": "execute_result"
    }
   ],
   "source": [
    "df.shape"
   ]
  },
  {
   "cell_type": "code",
   "execution_count": 137,
   "id": "4483ddef-5f44-4ae5-bcf9-6779d92545d3",
   "metadata": {},
   "outputs": [
    {
     "name": "stdout",
     "output_type": "stream",
     "text": [
      "['cycle', 'days_from_ced', 'ooc', 'resign_fanboy_group', 'channel_l1', 'sim_only_ind', 'mins_allowance', 'term', 'tenure_months', 'tenure_desc', 'time_on_handset', 'age_id_2', 'spend_cap_level', 'contract_type', 'refresh', 'flex_refresh_flag', 'first_recent_channel', 'second_recent_channel', 'third_recent_channel', 'cs_int_flag', 'digital_int_flag', 'wc_int_flag', 'no_of_comms_3m', 'no_of_comms_6m', 'ecn_sent_flag_l1m', 'wifi', 'device_fanboy_group', 'subs', 'pac_request_l1m', 'credit_band', 'multiple_mpn_flag', 'os_desc', 'device_os', 'iphone', 'vendor_desc_2', 'hs_flag', 'simo_flag', 'total_isrl_browsing_time_l3m', 'isrl_browsing_time_cat', 'domestic_data_costs', 'avg_dom_data_costs', 'ch_dom_data_costs', 'no_of_cells_used', 'avg_tot_ic_cost', 'ch_tot_ic_cost', 'total_interconnect_cost', 'arpu', 'airtime_margin', 'avg_arpu', 'avg_airtime_margin', 'ch_arpu', 'ch_airtime_margin', 'revenue_amount', 'ch_billed_revenue', 'billed_revenue', 'avg_billed_revenue', 'domestic_data_usage', 'total_voice_mins', 'total_voice_calls', 'avg_dom_data_usg', 'off_net_call_c', 'avg_offnet_call_c', 'avg_offnet_call_d', 'roam_data_usg', 'avg_roam_data_usg', 'avg_onnet_call_c', 'avg_onnet_call_d', 'sms_per', 'per_offnet_call_c', 'per_offnet_call_d', 'per_onnet_call_d', 'ch_dom_data_usg', 'ch_offnet_call_d', 'ch_onnet_call_d', 'ch_sms_c', 'per_sms_c', 'utilisation_band', 'data_util', 'roaming_cost', 'avg_sms_c', 'off_net_call_d', 'on_net_call_c', 'on_net_call_d', 'sms_c', 'retail_int_flag', 'avg_ic_natl_r', 'avg_tot_ic_rev', 'interconnect_natl_r', 'avg_ic_sms_r', 'interconnect_sms_r', 'ch_ic_sms_r', 'ch_ic_natl_r', 'total_interconnect_rev', 'ch_tot_ic_rev', 'mobile_broadband_ind', 'device_group_desc', 'tv_region_desc_2', 'data_uk_allow_mb_qty', 'plan_cca_ind', 'in_bundle_data_usage_1mth', 'in_bundle_data_usage_2mth', 'in_bundle_data_usage_3mth', 'age_grp_2', 'load_date', 'handset_price', 'insurance', 'opted_in_flag', 'ported_from_grp', 'ported_flag', 'simo_subscr_ids', 'handset_subscr_ids', 'total_sms_1st_5days', 'total_voice_count_1st_5days', 'total_voice_duration_1st_5days', 'total_data_usage_1st_5days', 'total_subscr_ids', 'no_of_current_connections', 'arrears', 'j6_total_duration_90', 'total_voice_count', 'domestic_voice_duration', 'comms_engaged_with', 'comms_delivered', 'total_assist_duration_90', 'pac_requested_l12m', 'main_data_bolton_allowance', 'early_life', 'bt_overbuild', 'alt_net_overbuild', 'target', 'extra_interactionjourney_30firstdays', 'extra_interactionbrow_duration_last30', 'extra_interactionbrow_duration_last60', 'extra_interactionbrow_duration_last90', 'extra_interactionbrow_duration_last120', 'extra_interactionbrow_duration_last150', 'extra_interactionbrow_duration_last180', 'acorn_group', 'gender_desc', 'broadband_provider_email', 'ave_ncx_l3m', 'ncx_days_0to20_l3m', 'ncx_days_40to60_l3m', 'ncx_days_60to80_l3m', 'ncx_days_80to100_l3m', 'ncx_score', 'final_data_allowance']\n"
     ]
    }
   ],
   "source": [
    "print(list(df.columns))"
   ]
  },
  {
   "cell_type": "code",
   "execution_count": 138,
   "id": "ce4d5df4-9879-4ba8-9afa-799b532eba63",
   "metadata": {},
   "outputs": [],
   "source": [
    "df_clean=df"
   ]
  },
  {
   "cell_type": "code",
   "execution_count": 139,
   "id": "05644af6-7436-4db1-a645-17a17976c3fa",
   "metadata": {},
   "outputs": [
    {
     "data": {
      "text/plain": [
       "(36244, 147)"
      ]
     },
     "execution_count": 139,
     "metadata": {},
     "output_type": "execute_result"
    }
   ],
   "source": [
    "df_clean.shape"
   ]
  },
  {
   "cell_type": "code",
   "execution_count": 140,
   "id": "25a9c63e-2204-42d6-beee-22856953c255",
   "metadata": {},
   "outputs": [],
   "source": [
    "## To save in my GCP bucket : \n",
    "df.to_pickle('gs://jorquec_bucket/o2extras/o2extradataset_preprocessed.pickle')"
   ]
  },
  {
   "cell_type": "code",
   "execution_count": 2,
   "id": "e19a1355-62a3-45f8-92ea-2966fcb39443",
   "metadata": {},
   "outputs": [],
   "source": [
    "## To load it back again: \n",
    "df = pd.read_pickle('gs://jorquec_bucket/o2extras/o2extradataset_preprocessed.pickle')"
   ]
  },
  {
   "cell_type": "code",
   "execution_count": null,
   "id": "3468cd0d-47bc-4daa-b1b0-907ce15dc956",
   "metadata": {},
   "outputs": [],
   "source": [
    "#For null values, I will leave them in rather than filling with a median as CatGboost has \n",
    "#the capability to handle null values"
   ]
  },
  {
   "cell_type": "code",
   "execution_count": 141,
   "id": "2a116c67-e4f2-4e9b-93a4-765652e81af2",
   "metadata": {},
   "outputs": [
    {
     "data": {
      "text/plain": [
       "(36244, 147)"
      ]
     },
     "execution_count": 141,
     "metadata": {},
     "output_type": "execute_result"
    }
   ],
   "source": [
    "df.shape"
   ]
  },
  {
   "cell_type": "code",
   "execution_count": 142,
   "id": "2becf96b-0ab2-4fb2-80ab-a3ea97d0778e",
   "metadata": {},
   "outputs": [],
   "source": [
    "categorical_cols, bool_cols, numerical_cols = find_column_type(df)"
   ]
  },
  {
   "cell_type": "code",
   "execution_count": 143,
   "id": "dcea216a-8b54-45c1-860c-85167e867993",
   "metadata": {},
   "outputs": [],
   "source": [
    "pd.set_option('display.max_rows', 500)"
   ]
  },
  {
   "cell_type": "code",
   "execution_count": 144,
   "id": "67842db2-9e0b-4ed6-9da5-e12f9689535e",
   "metadata": {},
   "outputs": [
    {
     "data": {
      "text/plain": [
       "ncx_days_60to80_l3m                          53.000000\n",
       "ch_dom_data_usg                               2.360402\n",
       "avg_onnet_call_c                             29.000000\n",
       "data_util                                     0.092600\n",
       "extra_interactionbrow_duration_last180        0.000000\n",
       "avg_dom_data_costs                          151.616753\n",
       "ch_billed_revenue                             2.513380\n",
       "extra_interactionbrow_duration_last30         0.000000\n",
       "cycle                                         3.000000\n",
       "avg_tot_ic_cost                              -3.680100\n",
       "ncx_score                                     9.000000\n",
       "roaming_cost                                  0.000000\n",
       "ch_offnet_call_d                              2.503490\n",
       "time_on_handset                              19.000000\n",
       "extra_interactionbrow_duration_last150        0.000000\n",
       "avg_offnet_call_d                           320.597500\n",
       "term                                         24.000000\n",
       "avg_airtime_margin                          113.542300\n",
       "age_id_2                                     46.000000\n",
       "sms_c                                        75.000000\n",
       "ch_airtime_margin                             2.726194\n",
       "simo_subscr_ids                               1.000000\n",
       "no_of_current_connections                     1.000000\n",
       "avg_ic_natl_r                                 0.038000\n",
       "on_net_call_d                                94.900000\n",
       "extra_interactionbrow_duration_last120        0.000000\n",
       "on_net_call_c                                41.000000\n",
       "arpu                                        248.516300\n",
       "avg_sms_c                                    36.333333\n",
       "domestic_data_usage                       29711.495000\n",
       "total_assist_duration_90                      0.000000\n",
       "in_bundle_data_usage_2mth                   544.480000\n",
       "off_net_call_d                              635.220000\n",
       "handset_price                                 0.000000\n",
       "final_data_allowance                      25600.000000\n",
       "per_onnet_call_d                             12.119146\n",
       "no_of_cells_used                            142.000000\n",
       "subs                                         18.000000\n",
       "avg_arpu                                    108.552567\n",
       "total_interconnect_cost                      -4.606200\n",
       "ch_tot_ic_cost                                1.000000\n",
       "ch_sms_c                                      2.555235\n",
       "domestic_data_costs                         215.524674\n",
       "handset_subscr_ids                            0.000000\n",
       "total_voice_duration_1st_5days               10.280000\n",
       "extra_interactionjourney_30firstdays          0.000000\n",
       "off_net_call_c                              289.000000\n",
       "total_data_usage_1st_5days                   77.250000\n",
       "mins_allowance                            45000.000000\n",
       "ch_dom_data_costs                             1.000000\n",
       "billed_revenue                              236.424150\n",
       "ch_onnet_call_d                               2.666050\n",
       "comms_engaged_with                            0.000000\n",
       "avg_onnet_call_d                             69.833333\n",
       "no_of_comms_6m                                6.000000\n",
       "days_from_ced                              -712.000000\n",
       "per_offnet_call_d                            71.437861\n",
       "total_voice_count                            19.000000\n",
       "total_subscr_ids                              1.000000\n",
       "ave_ncx_l3m                                   4.890411\n",
       "comms_delivered                               1.000000\n",
       "ch_ic_sms_r                                   1.000000\n",
       "avg_tot_ic_rev                                3.797700\n",
       "avg_billed_revenue                          119.593500\n",
       "ncx_days_40to60_l3m                          21.000000\n",
       "avg_ic_sms_r                                  1.313000\n",
       "ncx_days_0to20_l3m                           70.000000\n",
       "j6_total_duration_90                          0.000000\n",
       "avg_roam_data_usg                          1051.343333\n",
       "roam_data_usg                                 0.010000\n",
       "total_voice_mins                            966.405000\n",
       "avg_dom_data_usg                          14958.683333\n",
       "total_voice_calls                           394.000000\n",
       "per_offnet_call_c                            54.658872\n",
       "ch_tot_ic_rev                                 1.000000\n",
       "revenue_amount                              248.534518\n",
       "credit_band                                   2.000000\n",
       "tenure_months                                57.000000\n",
       "total_sms_1st_5days                           5.000000\n",
       "extra_interactionbrow_duration_last90         0.000000\n",
       "interconnect_natl_r                           4.558050\n",
       "total_voice_count_1st_5days                   4.000000\n",
       "ch_ic_natl_r                                188.142105\n",
       "main_data_bolton_allowance                15360.000000\n",
       "avg_offnet_call_c                           143.000000\n",
       "data_uk_allow_mb_qty                      20480.000000\n",
       "total_isrl_browsing_time_l3m                  0.000000\n",
       "in_bundle_data_usage_3mth                   687.260000\n",
       "domestic_voice_duration                      56.425000\n",
       "airtime_margin                              283.182833\n",
       "sms_per                                      16.428571\n",
       "extra_interactionbrow_duration_last60         0.000000\n",
       "in_bundle_data_usage_1mth                  1459.935000\n",
       "per_sms_c                                    13.614763\n",
       "total_interconnect_rev                        4.780450\n",
       "interconnect_sms_r                            1.462000\n",
       "ch_arpu                                       2.664443\n",
       "no_of_comms_3m                                6.000000\n",
       "ncx_days_80to100_l3m                         88.000000\n",
       "dtype: float64"
      ]
     },
     "execution_count": 144,
     "metadata": {},
     "output_type": "execute_result"
    }
   ],
   "source": [
    "num_medians = df[numerical_cols].median()\n",
    "num_medians"
   ]
  },
  {
   "cell_type": "code",
   "execution_count": 145,
   "id": "5470479f-f7ab-4b5b-bae3-c6050db9ca98",
   "metadata": {},
   "outputs": [
    {
     "data": {
      "text/plain": [
       "ooc                     0.0\n",
       "sim_only_ind            1.0\n",
       "refresh                 0.0\n",
       "flex_refresh_flag       0.0\n",
       "cs_int_flag             0.0\n",
       "digital_int_flag        0.0\n",
       "wc_int_flag             0.0\n",
       "ecn_sent_flag_l1m       0.0\n",
       "wifi                    0.0\n",
       "pac_request_l1m         1.0\n",
       "multiple_mpn_flag       0.0\n",
       "iphone                  1.0\n",
       "hs_flag                 0.0\n",
       "simo_flag               0.0\n",
       "retail_int_flag         0.0\n",
       "mobile_broadband_ind    0.0\n",
       "plan_cca_ind            0.0\n",
       "insurance               0.0\n",
       "opted_in_flag           0.0\n",
       "ported_flag             0.0\n",
       "arrears                 0.0\n",
       "pac_requested_l12m      1.0\n",
       "early_life              1.0\n",
       "bt_overbuild            0.0\n",
       "alt_net_overbuild       0.0\n",
       "target                  0.0\n",
       "dtype: float64"
      ]
     },
     "execution_count": 145,
     "metadata": {},
     "output_type": "execute_result"
    }
   ],
   "source": [
    "bools_med = df[bool_cols].median()\n",
    "bools_med"
   ]
  },
  {
   "cell_type": "code",
   "execution_count": 146,
   "id": "f0a2a5c3-b5c8-4cc0-9805-c24b3ca1c826",
   "metadata": {},
   "outputs": [
    {
     "data": {
      "text/html": [
       "<div>\n",
       "<style scoped>\n",
       "    .dataframe tbody tr th:only-of-type {\n",
       "        vertical-align: middle;\n",
       "    }\n",
       "\n",
       "    .dataframe tbody tr th {\n",
       "        vertical-align: top;\n",
       "    }\n",
       "\n",
       "    .dataframe thead th {\n",
       "        text-align: right;\n",
       "    }\n",
       "</style>\n",
       "<table border=\"1\" class=\"dataframe\">\n",
       "  <thead>\n",
       "    <tr style=\"text-align: right;\">\n",
       "      <th></th>\n",
       "      <th>ooc</th>\n",
       "      <th>sim_only_ind</th>\n",
       "      <th>refresh</th>\n",
       "      <th>flex_refresh_flag</th>\n",
       "      <th>cs_int_flag</th>\n",
       "      <th>digital_int_flag</th>\n",
       "      <th>wc_int_flag</th>\n",
       "      <th>ecn_sent_flag_l1m</th>\n",
       "      <th>wifi</th>\n",
       "      <th>pac_request_l1m</th>\n",
       "      <th>multiple_mpn_flag</th>\n",
       "      <th>iphone</th>\n",
       "      <th>hs_flag</th>\n",
       "      <th>simo_flag</th>\n",
       "      <th>retail_int_flag</th>\n",
       "      <th>mobile_broadband_ind</th>\n",
       "      <th>plan_cca_ind</th>\n",
       "      <th>insurance</th>\n",
       "      <th>opted_in_flag</th>\n",
       "      <th>ported_flag</th>\n",
       "      <th>arrears</th>\n",
       "      <th>pac_requested_l12m</th>\n",
       "      <th>early_life</th>\n",
       "      <th>bt_overbuild</th>\n",
       "      <th>alt_net_overbuild</th>\n",
       "      <th>target</th>\n",
       "    </tr>\n",
       "  </thead>\n",
       "  <tbody>\n",
       "    <tr>\n",
       "      <th>0</th>\n",
       "      <td>0</td>\n",
       "      <td>1</td>\n",
       "      <td>0</td>\n",
       "      <td>0</td>\n",
       "      <td>0.0</td>\n",
       "      <td>0.0</td>\n",
       "      <td>0.0</td>\n",
       "      <td>0.0</td>\n",
       "      <td>0.0</td>\n",
       "      <td>1.0</td>\n",
       "      <td>0.0</td>\n",
       "      <td>1.0</td>\n",
       "      <td>0.0</td>\n",
       "      <td>0.0</td>\n",
       "      <td>0.0</td>\n",
       "      <td>0</td>\n",
       "      <td>0</td>\n",
       "      <td>0</td>\n",
       "      <td>0</td>\n",
       "      <td>0</td>\n",
       "      <td>0</td>\n",
       "      <td>1.0</td>\n",
       "      <td>1</td>\n",
       "      <td>0.0</td>\n",
       "      <td>0.0</td>\n",
       "      <td>0</td>\n",
       "    </tr>\n",
       "  </tbody>\n",
       "</table>\n",
       "</div>"
      ],
      "text/plain": [
       "   ooc  sim_only_ind  refresh  flex_refresh_flag  cs_int_flag  \\\n",
       "0    0             1        0                  0          0.0   \n",
       "\n",
       "   digital_int_flag  wc_int_flag  ecn_sent_flag_l1m  wifi  pac_request_l1m  \\\n",
       "0               0.0          0.0                0.0   0.0              1.0   \n",
       "\n",
       "   multiple_mpn_flag  iphone  hs_flag  simo_flag  retail_int_flag  \\\n",
       "0                0.0     1.0      0.0        0.0              0.0   \n",
       "\n",
       "   mobile_broadband_ind  plan_cca_ind  insurance  opted_in_flag  ported_flag  \\\n",
       "0                     0             0          0              0            0   \n",
       "\n",
       "   arrears  pac_requested_l12m  early_life  bt_overbuild  alt_net_overbuild  \\\n",
       "0        0                 1.0           1           0.0                0.0   \n",
       "\n",
       "   target  \n",
       "0       0  "
      ]
     },
     "execution_count": 146,
     "metadata": {},
     "output_type": "execute_result"
    }
   ],
   "source": [
    "bools_mode = df[bool_cols].mode()\n",
    "bools_mode"
   ]
  },
  {
   "cell_type": "code",
   "execution_count": 147,
   "id": "cd4662dd-f005-42e5-9b1f-134d7dd9c6c0",
   "metadata": {},
   "outputs": [],
   "source": [
    "# to save medians\n",
    "with open('/home/jupyter/o2extras/datasets/num_medians.pkl', 'wb') as f: \n",
    "    pickle.dump(num_medians, f)"
   ]
  },
  {
   "cell_type": "code",
   "execution_count": null,
   "id": "2ad0fa45-0b5f-42a2-b0a9-6b6e66b3e65e",
   "metadata": {},
   "outputs": [],
   "source": [
    "# to read later\n",
    "with open('/home/jupyter/o2extras/datasets/num_medians.pkl', 'rb') as f: \n",
    "    num_medians = pickle.load(f)"
   ]
  },
  {
   "cell_type": "code",
   "execution_count": 148,
   "id": "f13152bd-3419-4097-a8c8-1ab4490133c4",
   "metadata": {},
   "outputs": [],
   "source": [
    "# to save medians for Bools  -- same as mode\n",
    "with open('/home/jupyter/o2extras/datasets/bools_medians.pkl', 'wb') as g: \n",
    "    pickle.dump(bools_med, g)"
   ]
  },
  {
   "cell_type": "code",
   "execution_count": null,
   "id": "ea92531e-f377-46e4-a094-1d6b2751c09a",
   "metadata": {},
   "outputs": [],
   "source": [
    "# to read later Bolls median \n",
    "with open('/home/jupyter/o2extras/datasets/bools_medians.pkl', 'rb') as g: \n",
    "    bool_med = pickle.load(g)"
   ]
  },
  {
   "cell_type": "code",
   "execution_count": null,
   "id": "73ed3598-33ff-4ea4-a581-06f14605ccec",
   "metadata": {},
   "outputs": [],
   "source": []
  },
  {
   "cell_type": "code",
   "execution_count": 149,
   "id": "b8e4a90c-9bfa-4f95-8fc3-bf68591c0240",
   "metadata": {},
   "outputs": [],
   "source": [
    "#Box Plot"
   ]
  },
  {
   "cell_type": "code",
   "execution_count": 150,
   "id": "f4349abd-9948-4eb9-b8cb-e309c7074791",
   "metadata": {},
   "outputs": [],
   "source": [
    "## Checks"
   ]
  },
  {
   "cell_type": "code",
   "execution_count": 151,
   "id": "0f271c90-68b9-499f-bf61-07c936290668",
   "metadata": {},
   "outputs": [],
   "source": [
    "\n",
    "grouped = df.groupby(['target'])\n",
    "\n",
    "split = grouped.mean()"
   ]
  },
  {
   "cell_type": "code",
   "execution_count": 152,
   "id": "b1e03372-88c5-4e03-bf4c-00778656a28c",
   "metadata": {},
   "outputs": [
    {
     "data": {
      "text/html": [
       "<div>\n",
       "<style scoped>\n",
       "    .dataframe tbody tr th:only-of-type {\n",
       "        vertical-align: middle;\n",
       "    }\n",
       "\n",
       "    .dataframe tbody tr th {\n",
       "        vertical-align: top;\n",
       "    }\n",
       "\n",
       "    .dataframe thead th {\n",
       "        text-align: right;\n",
       "    }\n",
       "</style>\n",
       "<table border=\"1\" class=\"dataframe\">\n",
       "  <thead>\n",
       "    <tr style=\"text-align: right;\">\n",
       "      <th></th>\n",
       "      <th>cycle</th>\n",
       "      <th>days_from_ced</th>\n",
       "      <th>ooc</th>\n",
       "      <th>sim_only_ind</th>\n",
       "      <th>mins_allowance</th>\n",
       "      <th>term</th>\n",
       "      <th>tenure_months</th>\n",
       "      <th>time_on_handset</th>\n",
       "      <th>age_id_2</th>\n",
       "      <th>refresh</th>\n",
       "      <th>flex_refresh_flag</th>\n",
       "      <th>cs_int_flag</th>\n",
       "      <th>digital_int_flag</th>\n",
       "      <th>wc_int_flag</th>\n",
       "      <th>no_of_comms_3m</th>\n",
       "      <th>no_of_comms_6m</th>\n",
       "      <th>ecn_sent_flag_l1m</th>\n",
       "      <th>wifi</th>\n",
       "      <th>subs</th>\n",
       "      <th>pac_request_l1m</th>\n",
       "      <th>credit_band</th>\n",
       "      <th>multiple_mpn_flag</th>\n",
       "      <th>iphone</th>\n",
       "      <th>hs_flag</th>\n",
       "      <th>simo_flag</th>\n",
       "      <th>total_isrl_browsing_time_l3m</th>\n",
       "      <th>domestic_data_costs</th>\n",
       "      <th>avg_dom_data_costs</th>\n",
       "      <th>ch_dom_data_costs</th>\n",
       "      <th>no_of_cells_used</th>\n",
       "      <th>avg_tot_ic_cost</th>\n",
       "      <th>ch_tot_ic_cost</th>\n",
       "      <th>total_interconnect_cost</th>\n",
       "      <th>arpu</th>\n",
       "      <th>airtime_margin</th>\n",
       "      <th>avg_arpu</th>\n",
       "      <th>avg_airtime_margin</th>\n",
       "      <th>ch_arpu</th>\n",
       "      <th>ch_airtime_margin</th>\n",
       "      <th>revenue_amount</th>\n",
       "      <th>ch_billed_revenue</th>\n",
       "      <th>billed_revenue</th>\n",
       "      <th>avg_billed_revenue</th>\n",
       "      <th>domestic_data_usage</th>\n",
       "      <th>total_voice_mins</th>\n",
       "      <th>total_voice_calls</th>\n",
       "      <th>avg_dom_data_usg</th>\n",
       "      <th>off_net_call_c</th>\n",
       "      <th>avg_offnet_call_c</th>\n",
       "      <th>avg_offnet_call_d</th>\n",
       "      <th>roam_data_usg</th>\n",
       "      <th>avg_roam_data_usg</th>\n",
       "      <th>avg_onnet_call_c</th>\n",
       "      <th>avg_onnet_call_d</th>\n",
       "      <th>sms_per</th>\n",
       "      <th>per_offnet_call_c</th>\n",
       "      <th>per_offnet_call_d</th>\n",
       "      <th>per_onnet_call_d</th>\n",
       "      <th>ch_dom_data_usg</th>\n",
       "      <th>ch_offnet_call_d</th>\n",
       "      <th>ch_onnet_call_d</th>\n",
       "      <th>ch_sms_c</th>\n",
       "      <th>per_sms_c</th>\n",
       "      <th>data_util</th>\n",
       "      <th>roaming_cost</th>\n",
       "      <th>avg_sms_c</th>\n",
       "      <th>off_net_call_d</th>\n",
       "      <th>on_net_call_c</th>\n",
       "      <th>on_net_call_d</th>\n",
       "      <th>sms_c</th>\n",
       "      <th>retail_int_flag</th>\n",
       "      <th>avg_ic_natl_r</th>\n",
       "      <th>avg_tot_ic_rev</th>\n",
       "      <th>interconnect_natl_r</th>\n",
       "      <th>avg_ic_sms_r</th>\n",
       "      <th>interconnect_sms_r</th>\n",
       "      <th>ch_ic_sms_r</th>\n",
       "      <th>ch_ic_natl_r</th>\n",
       "      <th>total_interconnect_rev</th>\n",
       "      <th>ch_tot_ic_rev</th>\n",
       "      <th>mobile_broadband_ind</th>\n",
       "      <th>data_uk_allow_mb_qty</th>\n",
       "      <th>plan_cca_ind</th>\n",
       "      <th>in_bundle_data_usage_1mth</th>\n",
       "      <th>in_bundle_data_usage_2mth</th>\n",
       "      <th>in_bundle_data_usage_3mth</th>\n",
       "      <th>handset_price</th>\n",
       "      <th>insurance</th>\n",
       "      <th>opted_in_flag</th>\n",
       "      <th>ported_flag</th>\n",
       "      <th>simo_subscr_ids</th>\n",
       "      <th>handset_subscr_ids</th>\n",
       "      <th>total_sms_1st_5days</th>\n",
       "      <th>total_voice_count_1st_5days</th>\n",
       "      <th>total_voice_duration_1st_5days</th>\n",
       "      <th>total_data_usage_1st_5days</th>\n",
       "      <th>total_subscr_ids</th>\n",
       "      <th>no_of_current_connections</th>\n",
       "      <th>arrears</th>\n",
       "      <th>j6_total_duration_90</th>\n",
       "      <th>total_voice_count</th>\n",
       "      <th>domestic_voice_duration</th>\n",
       "      <th>comms_engaged_with</th>\n",
       "      <th>comms_delivered</th>\n",
       "      <th>total_assist_duration_90</th>\n",
       "      <th>pac_requested_l12m</th>\n",
       "      <th>main_data_bolton_allowance</th>\n",
       "      <th>early_life</th>\n",
       "      <th>bt_overbuild</th>\n",
       "      <th>alt_net_overbuild</th>\n",
       "      <th>extra_interactionjourney_30firstdays</th>\n",
       "      <th>extra_interactionbrow_duration_last30</th>\n",
       "      <th>extra_interactionbrow_duration_last60</th>\n",
       "      <th>extra_interactionbrow_duration_last90</th>\n",
       "      <th>extra_interactionbrow_duration_last120</th>\n",
       "      <th>extra_interactionbrow_duration_last150</th>\n",
       "      <th>extra_interactionbrow_duration_last180</th>\n",
       "      <th>ave_ncx_l3m</th>\n",
       "      <th>ncx_days_0to20_l3m</th>\n",
       "      <th>ncx_days_40to60_l3m</th>\n",
       "      <th>ncx_days_60to80_l3m</th>\n",
       "      <th>ncx_days_80to100_l3m</th>\n",
       "      <th>ncx_score</th>\n",
       "      <th>final_data_allowance</th>\n",
       "    </tr>\n",
       "    <tr>\n",
       "      <th>target</th>\n",
       "      <th></th>\n",
       "      <th></th>\n",
       "      <th></th>\n",
       "      <th></th>\n",
       "      <th></th>\n",
       "      <th></th>\n",
       "      <th></th>\n",
       "      <th></th>\n",
       "      <th></th>\n",
       "      <th></th>\n",
       "      <th></th>\n",
       "      <th></th>\n",
       "      <th></th>\n",
       "      <th></th>\n",
       "      <th></th>\n",
       "      <th></th>\n",
       "      <th></th>\n",
       "      <th></th>\n",
       "      <th></th>\n",
       "      <th></th>\n",
       "      <th></th>\n",
       "      <th></th>\n",
       "      <th></th>\n",
       "      <th></th>\n",
       "      <th></th>\n",
       "      <th></th>\n",
       "      <th></th>\n",
       "      <th></th>\n",
       "      <th></th>\n",
       "      <th></th>\n",
       "      <th></th>\n",
       "      <th></th>\n",
       "      <th></th>\n",
       "      <th></th>\n",
       "      <th></th>\n",
       "      <th></th>\n",
       "      <th></th>\n",
       "      <th></th>\n",
       "      <th></th>\n",
       "      <th></th>\n",
       "      <th></th>\n",
       "      <th></th>\n",
       "      <th></th>\n",
       "      <th></th>\n",
       "      <th></th>\n",
       "      <th></th>\n",
       "      <th></th>\n",
       "      <th></th>\n",
       "      <th></th>\n",
       "      <th></th>\n",
       "      <th></th>\n",
       "      <th></th>\n",
       "      <th></th>\n",
       "      <th></th>\n",
       "      <th></th>\n",
       "      <th></th>\n",
       "      <th></th>\n",
       "      <th></th>\n",
       "      <th></th>\n",
       "      <th></th>\n",
       "      <th></th>\n",
       "      <th></th>\n",
       "      <th></th>\n",
       "      <th></th>\n",
       "      <th></th>\n",
       "      <th></th>\n",
       "      <th></th>\n",
       "      <th></th>\n",
       "      <th></th>\n",
       "      <th></th>\n",
       "      <th></th>\n",
       "      <th></th>\n",
       "      <th></th>\n",
       "      <th></th>\n",
       "      <th></th>\n",
       "      <th></th>\n",
       "      <th></th>\n",
       "      <th></th>\n",
       "      <th></th>\n",
       "      <th></th>\n",
       "      <th></th>\n",
       "      <th></th>\n",
       "      <th></th>\n",
       "      <th></th>\n",
       "      <th></th>\n",
       "      <th></th>\n",
       "      <th></th>\n",
       "      <th></th>\n",
       "      <th></th>\n",
       "      <th></th>\n",
       "      <th></th>\n",
       "      <th></th>\n",
       "      <th></th>\n",
       "      <th></th>\n",
       "      <th></th>\n",
       "      <th></th>\n",
       "      <th></th>\n",
       "      <th></th>\n",
       "      <th></th>\n",
       "      <th></th>\n",
       "      <th></th>\n",
       "      <th></th>\n",
       "      <th></th>\n",
       "      <th></th>\n",
       "      <th></th>\n",
       "      <th></th>\n",
       "      <th></th>\n",
       "      <th></th>\n",
       "      <th></th>\n",
       "      <th></th>\n",
       "      <th></th>\n",
       "      <th></th>\n",
       "      <th></th>\n",
       "      <th></th>\n",
       "      <th></th>\n",
       "      <th></th>\n",
       "      <th></th>\n",
       "      <th></th>\n",
       "      <th></th>\n",
       "      <th></th>\n",
       "      <th></th>\n",
       "      <th></th>\n",
       "      <th></th>\n",
       "      <th></th>\n",
       "    </tr>\n",
       "  </thead>\n",
       "  <tbody>\n",
       "    <tr>\n",
       "      <th>0</th>\n",
       "      <td>3.664320</td>\n",
       "      <td>-723.559415</td>\n",
       "      <td>0.0</td>\n",
       "      <td>0.656324</td>\n",
       "      <td>5.992100e+06</td>\n",
       "      <td>24.266499</td>\n",
       "      <td>69.951925</td>\n",
       "      <td>22.631550</td>\n",
       "      <td>48.752643</td>\n",
       "      <td>0.0</td>\n",
       "      <td>0.0</td>\n",
       "      <td>0.000029</td>\n",
       "      <td>0.470456</td>\n",
       "      <td>0.046068</td>\n",
       "      <td>10.980177</td>\n",
       "      <td>11.747562</td>\n",
       "      <td>0.000730</td>\n",
       "      <td>0.254160</td>\n",
       "      <td>19.117252</td>\n",
       "      <td>0.934737</td>\n",
       "      <td>6.216312</td>\n",
       "      <td>0.0</td>\n",
       "      <td>0.611464</td>\n",
       "      <td>0.000031</td>\n",
       "      <td>0.0</td>\n",
       "      <td>42438.429025</td>\n",
       "      <td>212.105601</td>\n",
       "      <td>170.257147</td>\n",
       "      <td>1.405586</td>\n",
       "      <td>172.635608</td>\n",
       "      <td>-8.418000</td>\n",
       "      <td>1.284365</td>\n",
       "      <td>-10.100627</td>\n",
       "      <td>265.056029</td>\n",
       "      <td>327.712148</td>\n",
       "      <td>136.292564</td>\n",
       "      <td>142.963497</td>\n",
       "      <td>2.283941</td>\n",
       "      <td>2.472566</td>\n",
       "      <td>338.208896</td>\n",
       "      <td>2.104248</td>\n",
       "      <td>324.329575</td>\n",
       "      <td>171.122267</td>\n",
       "      <td>80528.431227</td>\n",
       "      <td>2081.984478</td>\n",
       "      <td>707.048159</td>\n",
       "      <td>45840.440170</td>\n",
       "      <td>532.613385</td>\n",
       "      <td>294.249676</td>\n",
       "      <td>773.098483</td>\n",
       "      <td>3929.368486</td>\n",
       "      <td>4659.972619</td>\n",
       "      <td>88.529620</td>\n",
       "      <td>299.204888</td>\n",
       "      <td>24.092372</td>\n",
       "      <td>53.921691</td>\n",
       "      <td>65.438550</td>\n",
       "      <td>16.959701</td>\n",
       "      <td>2.016603</td>\n",
       "      <td>2.094692</td>\n",
       "      <td>2.206253</td>\n",
       "      <td>2.156142</td>\n",
       "      <td>21.230649</td>\n",
       "      <td>0.216666</td>\n",
       "      <td>-2.234767</td>\n",
       "      <td>151.832024</td>\n",
       "      <td>1452.386370</td>\n",
       "      <td>151.907858</td>\n",
       "      <td>522.748668</td>\n",
       "      <td>283.303180</td>\n",
       "      <td>0.008291</td>\n",
       "      <td>0.05</td>\n",
       "      <td>8.060875</td>\n",
       "      <td>9.494874</td>\n",
       "      <td>3.690805</td>\n",
       "      <td>4.302397</td>\n",
       "      <td>1.167363</td>\n",
       "      <td>267.835917</td>\n",
       "      <td>9.692566</td>\n",
       "      <td>1.277541</td>\n",
       "      <td>0.001635</td>\n",
       "      <td>7.450389e+06</td>\n",
       "      <td>0.343589</td>\n",
       "      <td>5429.497379</td>\n",
       "      <td>4016.892983</td>\n",
       "      <td>2728.003023</td>\n",
       "      <td>28.412458</td>\n",
       "      <td>0.019936</td>\n",
       "      <td>0.253860</td>\n",
       "      <td>0.061823</td>\n",
       "      <td>0.671806</td>\n",
       "      <td>0.367536</td>\n",
       "      <td>36.581938</td>\n",
       "      <td>8.749296</td>\n",
       "      <td>25.680682</td>\n",
       "      <td>1180.992455</td>\n",
       "      <td>1.058590</td>\n",
       "      <td>1.018231</td>\n",
       "      <td>0.016025</td>\n",
       "      <td>5.870007</td>\n",
       "      <td>46.433247</td>\n",
       "      <td>163.421264</td>\n",
       "      <td>0.287587</td>\n",
       "      <td>1.568722</td>\n",
       "      <td>4556.452592</td>\n",
       "      <td>1.0</td>\n",
       "      <td>3.613202e+07</td>\n",
       "      <td>1.0</td>\n",
       "      <td>0.295452</td>\n",
       "      <td>0.197832</td>\n",
       "      <td>0.004729</td>\n",
       "      <td>0.011413</td>\n",
       "      <td>0.011413</td>\n",
       "      <td>0.013252</td>\n",
       "      <td>0.013252</td>\n",
       "      <td>0.013252</td>\n",
       "      <td>0.013252</td>\n",
       "      <td>5.010206</td>\n",
       "      <td>79.577946</td>\n",
       "      <td>25.245721</td>\n",
       "      <td>56.397000</td>\n",
       "      <td>101.758510</td>\n",
       "      <td>6.624365</td>\n",
       "      <td>7.149920e+06</td>\n",
       "    </tr>\n",
       "    <tr>\n",
       "      <th>1</th>\n",
       "      <td>5.097881</td>\n",
       "      <td>-748.609068</td>\n",
       "      <td>0.0</td>\n",
       "      <td>0.650378</td>\n",
       "      <td>4.495450e+04</td>\n",
       "      <td>25.085642</td>\n",
       "      <td>96.352141</td>\n",
       "      <td>25.699931</td>\n",
       "      <td>41.351782</td>\n",
       "      <td>0.0</td>\n",
       "      <td>0.0</td>\n",
       "      <td>0.000000</td>\n",
       "      <td>0.761209</td>\n",
       "      <td>0.083123</td>\n",
       "      <td>18.726952</td>\n",
       "      <td>19.822670</td>\n",
       "      <td>0.001008</td>\n",
       "      <td>0.450378</td>\n",
       "      <td>23.832363</td>\n",
       "      <td>0.895522</td>\n",
       "      <td>7.205882</td>\n",
       "      <td>0.0</td>\n",
       "      <td>0.637248</td>\n",
       "      <td>0.000000</td>\n",
       "      <td>0.0</td>\n",
       "      <td>55944.890065</td>\n",
       "      <td>246.502295</td>\n",
       "      <td>195.083777</td>\n",
       "      <td>1.426500</td>\n",
       "      <td>215.019211</td>\n",
       "      <td>-7.792909</td>\n",
       "      <td>1.348735</td>\n",
       "      <td>-9.572367</td>\n",
       "      <td>281.717185</td>\n",
       "      <td>272.011608</td>\n",
       "      <td>114.056203</td>\n",
       "      <td>120.614337</td>\n",
       "      <td>2.625475</td>\n",
       "      <td>2.549634</td>\n",
       "      <td>379.274298</td>\n",
       "      <td>2.533024</td>\n",
       "      <td>368.913026</td>\n",
       "      <td>158.248726</td>\n",
       "      <td>138162.573111</td>\n",
       "      <td>2262.570202</td>\n",
       "      <td>757.211800</td>\n",
       "      <td>84882.584977</td>\n",
       "      <td>564.927383</td>\n",
       "      <td>284.523230</td>\n",
       "      <td>764.493021</td>\n",
       "      <td>6402.256652</td>\n",
       "      <td>5890.300456</td>\n",
       "      <td>87.766492</td>\n",
       "      <td>299.494921</td>\n",
       "      <td>23.951769</td>\n",
       "      <td>52.987686</td>\n",
       "      <td>64.706338</td>\n",
       "      <td>17.275868</td>\n",
       "      <td>2.265929</td>\n",
       "      <td>2.387960</td>\n",
       "      <td>2.426094</td>\n",
       "      <td>2.403652</td>\n",
       "      <td>21.491444</td>\n",
       "      <td>0.257088</td>\n",
       "      <td>-4.791728</td>\n",
       "      <td>134.866112</td>\n",
       "      <td>1592.512189</td>\n",
       "      <td>167.494201</td>\n",
       "      <td>555.572204</td>\n",
       "      <td>295.052446</td>\n",
       "      <td>0.005542</td>\n",
       "      <td>NaN</td>\n",
       "      <td>8.113609</td>\n",
       "      <td>9.684438</td>\n",
       "      <td>3.335060</td>\n",
       "      <td>3.973049</td>\n",
       "      <td>1.180566</td>\n",
       "      <td>NaN</td>\n",
       "      <td>9.970489</td>\n",
       "      <td>1.352124</td>\n",
       "      <td>0.000000</td>\n",
       "      <td>5.819108e+06</td>\n",
       "      <td>0.349622</td>\n",
       "      <td>7528.790965</td>\n",
       "      <td>4428.623919</td>\n",
       "      <td>4057.489213</td>\n",
       "      <td>31.137611</td>\n",
       "      <td>0.020151</td>\n",
       "      <td>0.311839</td>\n",
       "      <td>0.015617</td>\n",
       "      <td>0.669003</td>\n",
       "      <td>0.359030</td>\n",
       "      <td>11.727273</td>\n",
       "      <td>9.204545</td>\n",
       "      <td>38.837045</td>\n",
       "      <td>1215.370615</td>\n",
       "      <td>1.032345</td>\n",
       "      <td>1.008086</td>\n",
       "      <td>0.005542</td>\n",
       "      <td>0.000000</td>\n",
       "      <td>52.164902</td>\n",
       "      <td>180.289460</td>\n",
       "      <td>0.440302</td>\n",
       "      <td>2.083123</td>\n",
       "      <td>6220.306290</td>\n",
       "      <td>1.0</td>\n",
       "      <td>3.505167e+07</td>\n",
       "      <td>1.0</td>\n",
       "      <td>0.321185</td>\n",
       "      <td>0.227790</td>\n",
       "      <td>0.020151</td>\n",
       "      <td>0.000000</td>\n",
       "      <td>0.000000</td>\n",
       "      <td>0.000000</td>\n",
       "      <td>0.000000</td>\n",
       "      <td>0.000000</td>\n",
       "      <td>0.000000</td>\n",
       "      <td>5.075504</td>\n",
       "      <td>83.102109</td>\n",
       "      <td>26.828590</td>\n",
       "      <td>59.981319</td>\n",
       "      <td>104.975155</td>\n",
       "      <td>6.601434</td>\n",
       "      <td>4.994605e+06</td>\n",
       "    </tr>\n",
       "  </tbody>\n",
       "</table>\n",
       "</div>"
      ],
      "text/plain": [
       "           cycle  days_from_ced  ooc  sim_only_ind  mins_allowance       term  \\\n",
       "target                                                                          \n",
       "0       3.664320    -723.559415  0.0      0.656324    5.992100e+06  24.266499   \n",
       "1       5.097881    -748.609068  0.0      0.650378    4.495450e+04  25.085642   \n",
       "\n",
       "        tenure_months  time_on_handset   age_id_2  refresh  flex_refresh_flag  \\\n",
       "target                                                                          \n",
       "0           69.951925        22.631550  48.752643      0.0                0.0   \n",
       "1           96.352141        25.699931  41.351782      0.0                0.0   \n",
       "\n",
       "        cs_int_flag  digital_int_flag  wc_int_flag  no_of_comms_3m  \\\n",
       "target                                                               \n",
       "0          0.000029          0.470456     0.046068       10.980177   \n",
       "1          0.000000          0.761209     0.083123       18.726952   \n",
       "\n",
       "        no_of_comms_6m  ecn_sent_flag_l1m      wifi       subs  \\\n",
       "target                                                           \n",
       "0            11.747562           0.000730  0.254160  19.117252   \n",
       "1            19.822670           0.001008  0.450378  23.832363   \n",
       "\n",
       "        pac_request_l1m  credit_band  multiple_mpn_flag    iphone   hs_flag  \\\n",
       "target                                                                        \n",
       "0              0.934737     6.216312                0.0  0.611464  0.000031   \n",
       "1              0.895522     7.205882                0.0  0.637248  0.000000   \n",
       "\n",
       "        simo_flag  total_isrl_browsing_time_l3m  domestic_data_costs  \\\n",
       "target                                                                 \n",
       "0             0.0                  42438.429025           212.105601   \n",
       "1             0.0                  55944.890065           246.502295   \n",
       "\n",
       "        avg_dom_data_costs  ch_dom_data_costs  no_of_cells_used  \\\n",
       "target                                                            \n",
       "0               170.257147           1.405586        172.635608   \n",
       "1               195.083777           1.426500        215.019211   \n",
       "\n",
       "        avg_tot_ic_cost  ch_tot_ic_cost  total_interconnect_cost        arpu  \\\n",
       "target                                                                         \n",
       "0             -8.418000        1.284365               -10.100627  265.056029   \n",
       "1             -7.792909        1.348735                -9.572367  281.717185   \n",
       "\n",
       "        airtime_margin    avg_arpu  avg_airtime_margin   ch_arpu  \\\n",
       "target                                                             \n",
       "0           327.712148  136.292564          142.963497  2.283941   \n",
       "1           272.011608  114.056203          120.614337  2.625475   \n",
       "\n",
       "        ch_airtime_margin  revenue_amount  ch_billed_revenue  billed_revenue  \\\n",
       "target                                                                         \n",
       "0                2.472566      338.208896           2.104248      324.329575   \n",
       "1                2.549634      379.274298           2.533024      368.913026   \n",
       "\n",
       "        avg_billed_revenue  domestic_data_usage  total_voice_mins  \\\n",
       "target                                                              \n",
       "0               171.122267         80528.431227       2081.984478   \n",
       "1               158.248726        138162.573111       2262.570202   \n",
       "\n",
       "        total_voice_calls  avg_dom_data_usg  off_net_call_c  \\\n",
       "target                                                        \n",
       "0              707.048159      45840.440170      532.613385   \n",
       "1              757.211800      84882.584977      564.927383   \n",
       "\n",
       "        avg_offnet_call_c  avg_offnet_call_d  roam_data_usg  \\\n",
       "target                                                        \n",
       "0              294.249676         773.098483    3929.368486   \n",
       "1              284.523230         764.493021    6402.256652   \n",
       "\n",
       "        avg_roam_data_usg  avg_onnet_call_c  avg_onnet_call_d    sms_per  \\\n",
       "target                                                                     \n",
       "0             4659.972619         88.529620        299.204888  24.092372   \n",
       "1             5890.300456         87.766492        299.494921  23.951769   \n",
       "\n",
       "        per_offnet_call_c  per_offnet_call_d  per_onnet_call_d  \\\n",
       "target                                                           \n",
       "0               53.921691          65.438550         16.959701   \n",
       "1               52.987686          64.706338         17.275868   \n",
       "\n",
       "        ch_dom_data_usg  ch_offnet_call_d  ch_onnet_call_d  ch_sms_c  \\\n",
       "target                                                                 \n",
       "0              2.016603          2.094692         2.206253  2.156142   \n",
       "1              2.265929          2.387960         2.426094  2.403652   \n",
       "\n",
       "        per_sms_c  data_util  roaming_cost   avg_sms_c  off_net_call_d  \\\n",
       "target                                                                   \n",
       "0       21.230649   0.216666     -2.234767  151.832024     1452.386370   \n",
       "1       21.491444   0.257088     -4.791728  134.866112     1592.512189   \n",
       "\n",
       "        on_net_call_c  on_net_call_d       sms_c  retail_int_flag  \\\n",
       "target                                                              \n",
       "0          151.907858     522.748668  283.303180         0.008291   \n",
       "1          167.494201     555.572204  295.052446         0.005542   \n",
       "\n",
       "        avg_ic_natl_r  avg_tot_ic_rev  interconnect_natl_r  avg_ic_sms_r  \\\n",
       "target                                                                     \n",
       "0                0.05        8.060875             9.494874      3.690805   \n",
       "1                 NaN        8.113609             9.684438      3.335060   \n",
       "\n",
       "        interconnect_sms_r  ch_ic_sms_r  ch_ic_natl_r  total_interconnect_rev  \\\n",
       "target                                                                          \n",
       "0                 4.302397     1.167363    267.835917                9.692566   \n",
       "1                 3.973049     1.180566           NaN                9.970489   \n",
       "\n",
       "        ch_tot_ic_rev  mobile_broadband_ind  data_uk_allow_mb_qty  \\\n",
       "target                                                              \n",
       "0            1.277541              0.001635          7.450389e+06   \n",
       "1            1.352124              0.000000          5.819108e+06   \n",
       "\n",
       "        plan_cca_ind  in_bundle_data_usage_1mth  in_bundle_data_usage_2mth  \\\n",
       "target                                                                       \n",
       "0           0.343589                5429.497379                4016.892983   \n",
       "1           0.349622                7528.790965                4428.623919   \n",
       "\n",
       "        in_bundle_data_usage_3mth  handset_price  insurance  opted_in_flag  \\\n",
       "target                                                                       \n",
       "0                     2728.003023      28.412458   0.019936       0.253860   \n",
       "1                     4057.489213      31.137611   0.020151       0.311839   \n",
       "\n",
       "        ported_flag  simo_subscr_ids  handset_subscr_ids  total_sms_1st_5days  \\\n",
       "target                                                                          \n",
       "0          0.061823         0.671806            0.367536            36.581938   \n",
       "1          0.015617         0.669003            0.359030            11.727273   \n",
       "\n",
       "        total_voice_count_1st_5days  total_voice_duration_1st_5days  \\\n",
       "target                                                                \n",
       "0                          8.749296                       25.680682   \n",
       "1                          9.204545                       38.837045   \n",
       "\n",
       "        total_data_usage_1st_5days  total_subscr_ids  \\\n",
       "target                                                 \n",
       "0                      1180.992455          1.058590   \n",
       "1                      1215.370615          1.032345   \n",
       "\n",
       "        no_of_current_connections   arrears  j6_total_duration_90  \\\n",
       "target                                                              \n",
       "0                        1.018231  0.016025              5.870007   \n",
       "1                        1.008086  0.005542              0.000000   \n",
       "\n",
       "        total_voice_count  domestic_voice_duration  comms_engaged_with  \\\n",
       "target                                                                   \n",
       "0               46.433247               163.421264            0.287587   \n",
       "1               52.164902               180.289460            0.440302   \n",
       "\n",
       "        comms_delivered  total_assist_duration_90  pac_requested_l12m  \\\n",
       "target                                                                  \n",
       "0              1.568722               4556.452592                 1.0   \n",
       "1              2.083123               6220.306290                 1.0   \n",
       "\n",
       "        main_data_bolton_allowance  early_life  bt_overbuild  \\\n",
       "target                                                         \n",
       "0                     3.613202e+07         1.0      0.295452   \n",
       "1                     3.505167e+07         1.0      0.321185   \n",
       "\n",
       "        alt_net_overbuild  extra_interactionjourney_30firstdays  \\\n",
       "target                                                            \n",
       "0                0.197832                              0.004729   \n",
       "1                0.227790                              0.020151   \n",
       "\n",
       "        extra_interactionbrow_duration_last30  \\\n",
       "target                                          \n",
       "0                                    0.011413   \n",
       "1                                    0.000000   \n",
       "\n",
       "        extra_interactionbrow_duration_last60  \\\n",
       "target                                          \n",
       "0                                    0.011413   \n",
       "1                                    0.000000   \n",
       "\n",
       "        extra_interactionbrow_duration_last90  \\\n",
       "target                                          \n",
       "0                                    0.013252   \n",
       "1                                    0.000000   \n",
       "\n",
       "        extra_interactionbrow_duration_last120  \\\n",
       "target                                           \n",
       "0                                     0.013252   \n",
       "1                                     0.000000   \n",
       "\n",
       "        extra_interactionbrow_duration_last150  \\\n",
       "target                                           \n",
       "0                                     0.013252   \n",
       "1                                     0.000000   \n",
       "\n",
       "        extra_interactionbrow_duration_last180  ave_ncx_l3m  \\\n",
       "target                                                        \n",
       "0                                     0.013252     5.010206   \n",
       "1                                     0.000000     5.075504   \n",
       "\n",
       "        ncx_days_0to20_l3m  ncx_days_40to60_l3m  ncx_days_60to80_l3m  \\\n",
       "target                                                                 \n",
       "0                79.577946            25.245721            56.397000   \n",
       "1                83.102109            26.828590            59.981319   \n",
       "\n",
       "        ncx_days_80to100_l3m  ncx_score  final_data_allowance  \n",
       "target                                                         \n",
       "0                 101.758510   6.624365          7.149920e+06  \n",
       "1                 104.975155   6.601434          4.994605e+06  "
      ]
     },
     "execution_count": 152,
     "metadata": {},
     "output_type": "execute_result"
    }
   ],
   "source": [
    "split"
   ]
  },
  {
   "cell_type": "code",
   "execution_count": 153,
   "id": "18788494-d16d-4a69-a3be-fa53e3e6fdf6",
   "metadata": {},
   "outputs": [
    {
     "data": {
      "text/plain": [
       "count    36244.00000000\n",
       "mean        19.37548753\n",
       "std          8.07942818\n",
       "min          0.00000000\n",
       "25%         12.00000000\n",
       "50%         18.00000000\n",
       "75%         25.00000000\n",
       "max         60.00000000\n",
       "Name: subs, dtype: object"
      ]
     },
     "execution_count": 153,
     "metadata": {},
     "output_type": "execute_result"
    }
   ],
   "source": [
    "df.subs.describe().apply(\"{0:.8f}\".format)"
   ]
  },
  {
   "cell_type": "code",
   "execution_count": 154,
   "id": "a1dd9096-edfc-4f3f-ab43-0a973f1fb404",
   "metadata": {},
   "outputs": [
    {
     "data": {
      "text/plain": [
       "count    26477.00000000\n",
       "mean        48.38395589\n",
       "std         16.09091003\n",
       "min         18.00000000\n",
       "25%         35.00000000\n",
       "50%         46.00000000\n",
       "75%         60.00000000\n",
       "max        123.00000000\n",
       "Name: age_id_2, dtype: object"
      ]
     },
     "execution_count": 154,
     "metadata": {},
     "output_type": "execute_result"
    }
   ],
   "source": [
    "df.age_id_2.describe().apply(\"{0:.8f}\".format)"
   ]
  },
  {
   "cell_type": "code",
   "execution_count": 155,
   "id": "ade541ae-de09-4fdf-b6ee-4af3eae041d1",
   "metadata": {},
   "outputs": [
    {
     "data": {
      "text/plain": [
       "count    11757.00000000\n",
       "mean        28.57447903\n",
       "std        116.55626581\n",
       "min          0.00000000\n",
       "25%          0.00000000\n",
       "50%          0.00000000\n",
       "75%          0.00000000\n",
       "max       1769.00000000\n",
       "Name: handset_price, dtype: object"
      ]
     },
     "execution_count": 155,
     "metadata": {},
     "output_type": "execute_result"
    }
   ],
   "source": [
    "df.handset_price.describe().apply(\"{0:.8f}\".format)"
   ]
  },
  {
   "cell_type": "code",
   "execution_count": 156,
   "id": "d252ac58-5a86-4cb8-829f-c802ebd13032",
   "metadata": {},
   "outputs": [
    {
     "data": {
      "text/plain": [
       "count        36041.00000000\n",
       "mean       7031333.48392109\n",
       "std       26884314.32594362\n",
       "min            250.00000000\n",
       "25%           6144.00000000\n",
       "50%          25600.00000000\n",
       "75%         122880.00000000\n",
       "max      999999999.00000000\n",
       "Name: final_data_allowance, dtype: object"
      ]
     },
     "execution_count": 156,
     "metadata": {},
     "output_type": "execute_result"
    }
   ],
   "source": [
    "df.final_data_allowance.describe().apply(\"{0:.8f}\".format)"
   ]
  },
  {
   "cell_type": "code",
   "execution_count": null,
   "id": "b2822917-2c36-4b91-bc56-0415ad86b6a9",
   "metadata": {},
   "outputs": [],
   "source": []
  }
 ],
 "metadata": {
  "environment": {
   "kernel": "conda-root-py",
   "name": "workbench-notebooks.m115",
   "type": "gcloud",
   "uri": "gcr.io/deeplearning-platform-release/workbench-notebooks:m115"
  },
  "kernelspec": {
   "display_name": "Python 3 (ipykernel) (Local)",
   "language": "python",
   "name": "conda-root-py"
  },
  "language_info": {
   "codemirror_mode": {
    "name": "ipython",
    "version": 3
   },
   "file_extension": ".py",
   "mimetype": "text/x-python",
   "name": "python",
   "nbconvert_exporter": "python",
   "pygments_lexer": "ipython3",
   "version": "3.10.13"
  }
 },
 "nbformat": 4,
 "nbformat_minor": 5
}
