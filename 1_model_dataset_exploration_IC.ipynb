{
 "cells": [
  {
   "cell_type": "code",
   "execution_count": 5,
   "id": "4de091dd-3c02-49a1-9e4a-f284a774a52d",
   "metadata": {},
   "outputs": [],
   "source": [
    "\n",
    "import pandas as pd\n",
    "import numpy as np\n",
    "from google.cloud import bigquery\n",
    "from google.cloud import storage\n",
    "import yaml\n",
    "import pickle\n",
    "\n",
    "import matplotlib.pyplot as plt\n",
    "from matplotlib.ticker import StrMethodFormatter\n",
    "from matplotlib.ticker import PercentFormatter\n",
    "import warnings;\n",
    "warnings.filterwarnings('ignore')\n",
    "from scipy import stats as st\n",
    "import random\n",
    "import os\n",
    "from pathlib import Path\n",
    "from typing import List, Dict\n",
    "from google.cloud import bigquery\n",
    "from mlops_pipelines.helpers.bigquery import get_schema_from_query_job, bq_schema_to_dtypes\n",
    "import seaborn as sns"
   ]
  },
  {
   "cell_type": "code",
   "execution_count": 6,
   "id": "e500d76d-c4ec-41ef-b468-353a17a89214",
   "metadata": {},
   "outputs": [],
   "source": [
    "## Loading Dataset from BQ project"
   ]
  },
  {
   "cell_type": "code",
   "execution_count": 7,
   "id": "125bd107-a158-401b-aa6d-b746cec0b887",
   "metadata": {},
   "outputs": [],
   "source": [
    "\n",
    "def bq_schema_to_dtypes(bq_schema: List[Dict[str, str]]) -> Dict[str, str]:\n",
    "    mapping_dict = {\n",
    "        \"STRING\": \"str\",\n",
    "        \"INTEGER\": \"int\",\n",
    "        \"FLOAT\": \"float\",\n",
    "        \"NUMERIC\": \"float\",\n",
    "        \"BIGNUMERIC\": \"float\",\n",
    "        \"BOOLEAN\": \"bool\",\n",
    "    }\n",
    "    return {column[\"name\"]: mapping_dict.get(column[\"type\"], \"object\") for column in bq_schema}\n",
    "  \n",
    "client = bigquery.Client(project=\"prj-vo-aa-p-data-science-exp\", location='europe-west2')\n",
    "  "
   ]
  },
  {
   "cell_type": "code",
   "execution_count": 8,
   "id": "d37f8581-ae6d-4d78-a7d0-ce3dad5829e1",
   "metadata": {},
   "outputs": [
    {
     "name": "stderr",
     "output_type": "stream",
     "text": [
      "Query complete after 0.00s: 100% 1/1 [00:00<00:00, 763.43query/s] \n",
      "Downloading: 100% 36244/36244 [00:01<00:00, 22735.07rows/s]\n"
     ]
    }
   ],
   "source": [
    "%%bigquery df\n",
    "select * from prj-vo-aa-p-data-science-exp.jorquec.O2Extrasdisneydataset"
   ]
  },
  {
   "cell_type": "code",
   "execution_count": 5,
   "id": "ea0ae1a7-4a75-434f-82cb-a36d82d39fc2",
   "metadata": {},
   "outputs": [],
   "source": [
    "client = bigquery.Client(project=\"prj-vo-aa-p-data-science-exp\", location='europe-west2')\n",
    "TRAINING_DATASET_SQL = '''select * from prj-vo-aa-p-data-science-exp.jorquec.O2Extrasdisneydataset'''\n",
    "training_query_job = client.query(TRAINING_DATASET_SQL)\n",
    "bq_schema = get_schema_from_query_job(client, training_query_job)"
   ]
  },
  {
   "cell_type": "code",
   "execution_count": 6,
   "id": "aa7e48f5-9e66-4fba-af11-0ddc36900d7d",
   "metadata": {},
   "outputs": [],
   "source": [
    "\n",
    "## We make sure the types in the DF are matching the bq schema, we also cast any string to categorical once we load the dataframe\n",
    "dtypes_dict = bq_schema_to_dtypes(bq_schema)\n",
    "df = df.astype(dtypes_dict, errors='ignore')"
   ]
  },
  {
   "cell_type": "code",
   "execution_count": 7,
   "id": "22ab6674-274a-4da1-8862-fe85185e2d86",
   "metadata": {},
   "outputs": [
    {
     "data": {
      "text/plain": [
       "(36244, 211)"
      ]
     },
     "execution_count": 7,
     "metadata": {},
     "output_type": "execute_result"
    }
   ],
   "source": [
    "df.shape"
   ]
  },
  {
   "cell_type": "code",
   "execution_count": 8,
   "id": "c20aa6cc-00f3-46bc-98b3-d04bd2478317",
   "metadata": {},
   "outputs": [
    {
     "data": {
      "text/plain": [
       "'/home/jupyter/o2extras'"
      ]
     },
     "execution_count": 8,
     "metadata": {},
     "output_type": "execute_result"
    }
   ],
   "source": [
    "os. getcwd() "
   ]
  },
  {
   "cell_type": "code",
   "execution_count": 9,
   "id": "201624da-7d89-41f0-ba74-59eb21cc8b31",
   "metadata": {},
   "outputs": [],
   "source": [
    "## Save data set to a pickle file"
   ]
  },
  {
   "cell_type": "code",
   "execution_count": 9,
   "id": "f8e4fc31-386a-4d43-8369-34cb10bdaf21",
   "metadata": {},
   "outputs": [],
   "source": [
    "df.to_pickle('gs://jorquec_bucket/o2extras/o2extradataset3m.pickle')"
   ]
  },
  {
   "cell_type": "code",
   "execution_count": null,
   "id": "26726b4d-9191-4847-996a-de003256920d",
   "metadata": {},
   "outputs": [],
   "source": [
    "##  To load it back again: \n",
    "df = pd.read_pickle('gs://jorquec_bucket/o2extras/o2extradataset3m.pickle')"
   ]
  },
  {
   "cell_type": "code",
   "execution_count": 10,
   "id": "665fad2d-999c-4d2b-8d37-268fb88a023a",
   "metadata": {},
   "outputs": [
    {
     "data": {
      "text/html": [
       "<div>\n",
       "<style scoped>\n",
       "    .dataframe tbody tr th:only-of-type {\n",
       "        vertical-align: middle;\n",
       "    }\n",
       "\n",
       "    .dataframe tbody tr th {\n",
       "        vertical-align: top;\n",
       "    }\n",
       "\n",
       "    .dataframe thead th {\n",
       "        text-align: right;\n",
       "    }\n",
       "</style>\n",
       "<table border=\"1\" class=\"dataframe\">\n",
       "  <thead>\n",
       "    <tr style=\"text-align: right;\">\n",
       "      <th></th>\n",
       "      <th>ref_date</th>\n",
       "      <th>CUSTOMER_CAT</th>\n",
       "      <th>usi</th>\n",
       "      <th>cycle</th>\n",
       "      <th>contract_seq_no_adjusted</th>\n",
       "      <th>days_from_ced</th>\n",
       "      <th>contract_start_date</th>\n",
       "      <th>ooc</th>\n",
       "      <th>resign_fanboy_group</th>\n",
       "      <th>channel_l1</th>\n",
       "      <th>...</th>\n",
       "      <th>gender_desc</th>\n",
       "      <th>broadband_provider_email</th>\n",
       "      <th>ave_ncx_l3m</th>\n",
       "      <th>ncx_days_0to20_l3m</th>\n",
       "      <th>ncx_days_20to40_l3m</th>\n",
       "      <th>ncx_days_40to60_l3m</th>\n",
       "      <th>ncx_days_60to80_l3m</th>\n",
       "      <th>ncx_days_80to100_l3m</th>\n",
       "      <th>ncx_score</th>\n",
       "      <th>final_data_allowance</th>\n",
       "    </tr>\n",
       "  </thead>\n",
       "  <tbody>\n",
       "    <tr>\n",
       "      <th>0</th>\n",
       "      <td>2022-12-31</td>\n",
       "      <td>UPGRADE</td>\n",
       "      <td>-971756363</td>\n",
       "      <td>5.0</td>\n",
       "      <td>5.0</td>\n",
       "      <td>-1085</td>\n",
       "      <td>2022-12-21</td>\n",
       "      <td>0</td>\n",
       "      <td>Consistently INC 7m+</td>\n",
       "      <td>Online</td>\n",
       "      <td>...</td>\n",
       "      <td>Female</td>\n",
       "      <td>talktalk</td>\n",
       "      <td>7.884328</td>\n",
       "      <td>14.0</td>\n",
       "      <td>NaN</td>\n",
       "      <td>12.0</td>\n",
       "      <td>96.0</td>\n",
       "      <td>146.0</td>\n",
       "      <td>10.0</td>\n",
       "      <td>5120.0</td>\n",
       "    </tr>\n",
       "    <tr>\n",
       "      <th>1</th>\n",
       "      <td>2022-12-31</td>\n",
       "      <td>UPGRADE</td>\n",
       "      <td>-526429411</td>\n",
       "      <td>5.0</td>\n",
       "      <td>5.0</td>\n",
       "      <td>-714</td>\n",
       "      <td>2022-12-15</td>\n",
       "      <td>0</td>\n",
       "      <td>Consistently INC 7m+</td>\n",
       "      <td>Retail</td>\n",
       "      <td>...</td>\n",
       "      <td>Male</td>\n",
       "      <td>virginmedia</td>\n",
       "      <td>8.501887</td>\n",
       "      <td>2.0</td>\n",
       "      <td>NaN</td>\n",
       "      <td>27.0</td>\n",
       "      <td>51.0</td>\n",
       "      <td>185.0</td>\n",
       "      <td>10.0</td>\n",
       "      <td>76800.0</td>\n",
       "    </tr>\n",
       "    <tr>\n",
       "      <th>2</th>\n",
       "      <td>2022-12-31</td>\n",
       "      <td>UPGRADE</td>\n",
       "      <td>-999388181</td>\n",
       "      <td>8.0</td>\n",
       "      <td>8.0</td>\n",
       "      <td>-702</td>\n",
       "      <td>2022-12-03</td>\n",
       "      <td>0</td>\n",
       "      <td>Consistently INC 7m+</td>\n",
       "      <td>Online</td>\n",
       "      <td>...</td>\n",
       "      <td>Female</td>\n",
       "      <td>virginmedia</td>\n",
       "      <td>4.857820</td>\n",
       "      <td>84.0</td>\n",
       "      <td>NaN</td>\n",
       "      <td>6.0</td>\n",
       "      <td>75.0</td>\n",
       "      <td>46.0</td>\n",
       "      <td>6.0</td>\n",
       "      <td>10240.0</td>\n",
       "    </tr>\n",
       "    <tr>\n",
       "      <th>3</th>\n",
       "      <td>2022-12-31</td>\n",
       "      <td>UPGRADE</td>\n",
       "      <td>-435073083</td>\n",
       "      <td>3.0</td>\n",
       "      <td>3.0</td>\n",
       "      <td>-728</td>\n",
       "      <td>2022-12-29</td>\n",
       "      <td>0</td>\n",
       "      <td>Consistently INC 7m+</td>\n",
       "      <td>Telesales</td>\n",
       "      <td>...</td>\n",
       "      <td>Male</td>\n",
       "      <td>virginmedia</td>\n",
       "      <td>8.382022</td>\n",
       "      <td>2.0</td>\n",
       "      <td>NaN</td>\n",
       "      <td>6.0</td>\n",
       "      <td>95.0</td>\n",
       "      <td>164.0</td>\n",
       "      <td>10.0</td>\n",
       "      <td>153600.0</td>\n",
       "    </tr>\n",
       "    <tr>\n",
       "      <th>4</th>\n",
       "      <td>2022-12-31</td>\n",
       "      <td>UPGRADE</td>\n",
       "      <td>-997871312</td>\n",
       "      <td>4.0</td>\n",
       "      <td>4.0</td>\n",
       "      <td>-722</td>\n",
       "      <td>2022-12-23</td>\n",
       "      <td>0</td>\n",
       "      <td>Consistently INC 7m+</td>\n",
       "      <td>Telesales</td>\n",
       "      <td>...</td>\n",
       "      <td>Male</td>\n",
       "      <td>ntlworld</td>\n",
       "      <td>8.896296</td>\n",
       "      <td>NaN</td>\n",
       "      <td>NaN</td>\n",
       "      <td>7.0</td>\n",
       "      <td>60.0</td>\n",
       "      <td>203.0</td>\n",
       "      <td>10.0</td>\n",
       "      <td>76800.0</td>\n",
       "    </tr>\n",
       "  </tbody>\n",
       "</table>\n",
       "<p>5 rows × 211 columns</p>\n",
       "</div>"
      ],
      "text/plain": [
       "     ref_date CUSTOMER_CAT         usi  cycle  contract_seq_no_adjusted  \\\n",
       "0  2022-12-31      UPGRADE  -971756363    5.0                       5.0   \n",
       "1  2022-12-31      UPGRADE  -526429411    5.0                       5.0   \n",
       "2  2022-12-31      UPGRADE  -999388181    8.0                       8.0   \n",
       "3  2022-12-31      UPGRADE  -435073083    3.0                       3.0   \n",
       "4  2022-12-31      UPGRADE  -997871312    4.0                       4.0   \n",
       "\n",
       "   days_from_ced contract_start_date  ooc   resign_fanboy_group channel_l1  \\\n",
       "0          -1085          2022-12-21    0  Consistently INC 7m+     Online   \n",
       "1           -714          2022-12-15    0  Consistently INC 7m+     Retail   \n",
       "2           -702          2022-12-03    0  Consistently INC 7m+     Online   \n",
       "3           -728          2022-12-29    0  Consistently INC 7m+  Telesales   \n",
       "4           -722          2022-12-23    0  Consistently INC 7m+  Telesales   \n",
       "\n",
       "   ...  gender_desc  broadband_provider_email  ave_ncx_l3m  \\\n",
       "0  ...       Female                  talktalk     7.884328   \n",
       "1  ...         Male               virginmedia     8.501887   \n",
       "2  ...       Female               virginmedia     4.857820   \n",
       "3  ...         Male               virginmedia     8.382022   \n",
       "4  ...         Male                  ntlworld     8.896296   \n",
       "\n",
       "   ncx_days_0to20_l3m  ncx_days_20to40_l3m ncx_days_40to60_l3m  \\\n",
       "0                14.0                  NaN                12.0   \n",
       "1                 2.0                  NaN                27.0   \n",
       "2                84.0                  NaN                 6.0   \n",
       "3                 2.0                  NaN                 6.0   \n",
       "4                 NaN                  NaN                 7.0   \n",
       "\n",
       "   ncx_days_60to80_l3m  ncx_days_80to100_l3m  ncx_score final_data_allowance  \n",
       "0                 96.0                 146.0       10.0               5120.0  \n",
       "1                 51.0                 185.0       10.0              76800.0  \n",
       "2                 75.0                  46.0        6.0              10240.0  \n",
       "3                 95.0                 164.0       10.0             153600.0  \n",
       "4                 60.0                 203.0       10.0              76800.0  \n",
       "\n",
       "[5 rows x 211 columns]"
      ]
     },
     "execution_count": 10,
     "metadata": {},
     "output_type": "execute_result"
    }
   ],
   "source": [
    "df.head()"
   ]
  },
  {
   "cell_type": "code",
   "execution_count": 11,
   "id": "2379d8da-b56a-4480-a02c-3e6bb6c4ff23",
   "metadata": {},
   "outputs": [
    {
     "name": "stdout",
     "output_type": "stream",
     "text": [
      "['ref_date', 'CUSTOMER_CAT', 'usi', 'cycle', 'contract_seq_no_adjusted', 'days_from_ced', 'contract_start_date', 'ooc', 'resign_fanboy_group', 'channel_l1', 'sim_only_ind', 'mins_allowance', 'term', 'tenure_months', 'days_on_current_imei', 'tenure_desc', 'time_on_handset', 'second_hand_imei_hd', 'age_id_2', 'new_acorn_cat_desc', 'familyplan_flag', 'spend_cap_level', 'contract_type', 'refresh', 'flex_refresh_flag', 'first_recent_channel', 'second_recent_channel', 'third_recent_channel', 'total_cs_mins', 'cs_int_flag', 'digital_int_flag', 'wc_int_flag', 'no_of_comms_3m', 'no_of_comms_6m', 'assisted_effort_dur', 'ecn_sent_flag_l1m', 'o2_wifi_days_last_30', 'o2_wifi_days_last_90', 'wifi', 'device_fanboy_group', 'subs', 'offering_subs_rev_inc_vat_amt', 'pac_request_l1m', 'credit_band', 'o2_travel_iz_flag', 'o2_travel_row_flag', 'multiple_mpn_flag', 'os_desc', 'device_os', 'iphone', 'vendor_desc_2', 'is_o25g_ind', 'hs_flag', 'simo_flag', 'total_isrl_browsing_time_l3m', 'isrl_browsing_time_cat', 'domestic_data_costs', 'avg_dom_data_costs', 'ch_dom_data_costs', 'no_of_cells_used', 'avg_tot_ic_cost', 'ch_tot_ic_cost', 'total_interconnect_cost', 'arpu', 'airtime_margin', 'avg_arpu', 'avg_airtime_margin', 'ch_arpu', 'ch_airtime_margin', 'revenue_amount', 'ch_billed_revenue', 'billed_revenue', 'avg_billed_revenue', 'c2m_ind', 'domestic_data_usage', 'total_voice_mins', 'total_voice_calls', 'avg_dom_data_usg', 'off_net_call_c', 'avg_offnet_call_c', 'avg_offnet_call_d', 'avg_standard_d', 'avg_standard_c', 'roam_data_usg', 'avg_roam_data_usg', 'avg_onnet_call_c', 'avg_onnet_call_d', 'voice_per', 'sms_per', 'per_offnet_call_c', 'per_offnet_call_d', 'per_onnet_call_d', 'ch_dom_data_usg', 'ch_offnet_call_d', 'ch_onnet_call_d', 'ch_standard_d', 'per_standard_d', 'ch_sms_c', 'per_sms_c', 'utilisation_band', 'utilisation', 'data_util', 'standard_d', 'standard_c', 'premium_costs', 'roaming_cost', 'avg_other_d', 'avg_sms_c', 'off_net_call_d', 'on_net_call_c', 'on_net_call_d', 'sms_c', 'myo2', 'my_o2_days_access_last_30', 'my_o2_days_access_last_90', 'retail_int_flag', 'online_upgrade_visit_l1m', 'interconnect_revenue', 'avg_ic_mob_day_r', 'avg_ic_natl_r', 'avg_tot_ic_rev', 'interconnect_natl_r', 'avg_ic_mob_eve_r', 'avg_ic_mob_wkd_r', 'avg_ic_sms_r', 'interconnect_mob_day_r', 'interconnect_sms_r', 'ch_ic_sms_r', 'ch_ic_natl_r', 'total_interconnect_rev', 'ch_tot_ic_rev', 'ch_ic_mob_wkd_r', 'mobile_broadband_ind', 'device_group_desc', 'tv_region_desc_2', 'data_uk_allow_mb_qty', 'plan_cca_ind', 'additional_data_allowance_1mth', 'additional_data_allowance_2mth', 'additional_data_allowance_3mth', 'in_bundle_data_usage_1mth', 'in_bundle_data_usage_2mth', 'in_bundle_data_usage_3mth', 'max_snacking_bought_l3m', 'sharers_ind', 'free_video_streaming', 'online_competitor_visit_l3m', 'age_grp_2', 'load_date', 'online_competitor_visit_l1m', 'handset_price', 'insurance', 'opted_in_flag', 'ported_from_grp', 'ported_flag', 'simo_subscr_ids', 'handset_subscr_ids', 'tenure_dt', 'total_sms_1st_5days', 'total_voice_count_1st_5days', 'total_voice_duration_1st_5days', 'total_data_usage_1st_5days', 'total_subscr_ids', 'no_of_current_connections', 'arrears', 'j6_total_duration_90', 'j7_total_duration_90', 'total_voice_count', 'domestic_voice_duration', 'comms_engaged_with', 'comms_delivered', 'tech_tariff', 'o2_4g_sig_strength_at_PC', 'total_assist_duration_90', 'device_screen', 'device_price', 'pac_requested_l12m', 'main_data_bolton_allowance', 'early_life', 'contract_month', 'bt_overbuild', 'alt_net_overbuild', 'target', 'eff_from_timestamp', 'eff_to_timestamp', 'product_id', 'product_type_1', 'product_type_2', 'perk_type1', 'product_name', 'perk_type2', 'perk_type2_later', 'extra_interactionjourney_30firstdays', 'extra_interactionbrow_duration_last30', 'extra_interactionbrow_duration_last60', 'extra_interactionbrow_duration_last90', 'extra_interactionbrow_duration_last120', 'extra_interactionbrow_duration_last150', 'extra_interactionbrow_duration_last180', 'acorn_group', 'acorn_type', 'gender_desc', 'broadband_provider_email', 'ave_ncx_l3m', 'ncx_days_0to20_l3m', 'ncx_days_20to40_l3m', 'ncx_days_40to60_l3m', 'ncx_days_60to80_l3m', 'ncx_days_80to100_l3m', 'ncx_score', 'final_data_allowance']\n"
     ]
    }
   ],
   "source": [
    "print(list(df.columns))"
   ]
  },
  {
   "cell_type": "code",
   "execution_count": 12,
   "id": "f6f9002d-dfd6-4a4a-a252-f46fc4915220",
   "metadata": {},
   "outputs": [],
   "source": [
    "n = len(df)"
   ]
  },
  {
   "cell_type": "code",
   "execution_count": 13,
   "id": "5a19d1ee-eb7e-46de-b044-9e6437da652b",
   "metadata": {},
   "outputs": [
    {
     "name": "stdout",
     "output_type": "stream",
     "text": [
      "Sample size, n = 36244\n"
     ]
    }
   ],
   "source": [
    "print(f'Sample size, n = {n}')"
   ]
  },
  {
   "cell_type": "code",
   "execution_count": 14,
   "id": "ba8c4915-ed8b-42e9-9de1-220ae5d3d93a",
   "metadata": {},
   "outputs": [
    {
     "data": {
      "text/plain": [
       "dtype('float64')"
      ]
     },
     "execution_count": 14,
     "metadata": {},
     "output_type": "execute_result"
    }
   ],
   "source": [
    "df['utilisation'].dtype"
   ]
  },
  {
   "cell_type": "code",
   "execution_count": 15,
   "id": "7ed6a7d7-69ab-40d0-8878-2fec80348894",
   "metadata": {},
   "outputs": [
    {
     "data": {
      "text/plain": [
       "0    34259\n",
       "1     1985\n",
       "Name: target, dtype: int64"
      ]
     },
     "execution_count": 15,
     "metadata": {},
     "output_type": "execute_result"
    }
   ],
   "source": [
    "df['target'].value_counts()"
   ]
  },
  {
   "cell_type": "code",
   "execution_count": 16,
   "id": "e08e55dd-613c-4425-8663-2ed78de5e281",
   "metadata": {},
   "outputs": [
    {
     "data": {
      "text/html": [
       "<div>\n",
       "<style scoped>\n",
       "    .dataframe tbody tr th:only-of-type {\n",
       "        vertical-align: middle;\n",
       "    }\n",
       "\n",
       "    .dataframe tbody tr th {\n",
       "        vertical-align: top;\n",
       "    }\n",
       "\n",
       "    .dataframe thead th {\n",
       "        text-align: right;\n",
       "    }\n",
       "</style>\n",
       "<table border=\"1\" class=\"dataframe\">\n",
       "  <thead>\n",
       "    <tr style=\"text-align: right;\">\n",
       "      <th></th>\n",
       "      <th>target</th>\n",
       "      <th>count</th>\n",
       "    </tr>\n",
       "  </thead>\n",
       "  <tbody>\n",
       "    <tr>\n",
       "      <th>0</th>\n",
       "      <td>0</td>\n",
       "      <td>0.945232</td>\n",
       "    </tr>\n",
       "    <tr>\n",
       "      <th>1</th>\n",
       "      <td>1</td>\n",
       "      <td>0.054768</td>\n",
       "    </tr>\n",
       "  </tbody>\n",
       "</table>\n",
       "</div>"
      ],
      "text/plain": [
       "   target     count\n",
       "0       0  0.945232\n",
       "1       1  0.054768"
      ]
     },
     "execution_count": 16,
     "metadata": {},
     "output_type": "execute_result"
    }
   ],
   "source": [
    "df[['target']].value_counts(normalize=True).reset_index(name='count')"
   ]
  },
  {
   "cell_type": "code",
   "execution_count": 17,
   "id": "247fb8f3-d09b-491c-9f84-2285d522ad8c",
   "metadata": {},
   "outputs": [
    {
     "data": {
      "text/plain": [
       "0.00      6997\n",
       "NaN       2180\n",
       "0.03        75\n",
       "0.05        62\n",
       "0.07        59\n",
       "          ... \n",
       "113.23       1\n",
       "381.04       1\n",
       "11.56        1\n",
       "587.66       1\n",
       "30.31        1\n",
       "Name: domestic_voice_duration, Length: 18088, dtype: int64"
      ]
     },
     "execution_count": 17,
     "metadata": {},
     "output_type": "execute_result"
    }
   ],
   "source": [
    "pd.value_counts(df['domestic_voice_duration'],dropna=False)"
   ]
  },
  {
   "cell_type": "code",
   "execution_count": 18,
   "id": "68fee8e9-ec55-4d60-95d0-a7c417dfc40f",
   "metadata": {},
   "outputs": [
    {
     "data": {
      "text/plain": [
       "0    23779\n",
       "1    12465\n",
       "Name: plan_cca_ind, dtype: int64"
      ]
     },
     "execution_count": 18,
     "metadata": {},
     "output_type": "execute_result"
    }
   ],
   "source": [
    "pd.value_counts(df['plan_cca_ind'],dropna=False)"
   ]
  },
  {
   "cell_type": "code",
   "execution_count": 19,
   "id": "38387483-17b5-4605-9d12-0a0828cf3659",
   "metadata": {},
   "outputs": [
    {
     "data": {
      "text/plain": [
       "(-2000.0, 1000.0)"
      ]
     },
     "execution_count": 19,
     "metadata": {},
     "output_type": "execute_result"
    },
    {
     "data": {
      "image/png": "[encoded data removed]",
      "text/plain": [
       "<Figure size 1152x432 with 1 Axes>"
      ]
     },
     "metadata": {},
     "output_type": "display_data"
    }
   ],
   "source": [
    "# Draw a nested boxplot \n",
    "fig = plt.figure(figsize = (16,6),facecolor= '#F2F2F2')\n",
    "ax = fig.add_subplot(111)\n",
    "ax.set_facecolor('#F2F2F2')\n",
    " \n",
    "#fig.set_facecolor('#F2F2F2')\n",
    "g=sns.boxplot(x=\"target\", y=\"days_from_ced\",\n",
    "            hue=\"load_date\", palette=[\"m\", \"g\"],\n",
    "            data=df,\n",
    "            showfliers = False,\n",
    "            showmeans= True\n",
    "            )\n",
    "medians = df.groupby(['target','load_date'])['days_from_ced'].median()\n",
    "vertical_offset = df['days_from_ced'].median() * 0.05 # offset from median for display\n",
    " \n",
    "#for xtick in g.get_xticks():\n",
    "#    g.text(xtick,medians[xtick] + vertical_offset,medians[xtick],\n",
    "#            horizontalalignment='center',size='x-small',color='w',weight='semibold')\n",
    " \n",
    "plt.legend(loc='upper right')\n",
    "#plt.show()\n",
    "g.set_ylim(-2000,1000)\n",
    "#g.despine(offset=10, trim=True)\n",
    " "
   ]
  },
  {
   "cell_type": "code",
   "execution_count": 20,
   "id": "6a024665-a69d-4f11-94e3-eaecffa9deef",
   "metadata": {},
   "outputs": [
    {
     "data": {
      "text/plain": [
       "(-80.0, 50.0)"
      ]
     },
     "execution_count": 20,
     "metadata": {},
     "output_type": "execute_result"
    },
    {
     "data": {
      "image/png": "[encoded data removed]",
      "text/plain": [
       "<Figure size 1152x432 with 1 Axes>"
      ]
     },
     "metadata": {},
     "output_type": "display_data"
    }
   ],
   "source": [
    "# Draw a nested boxplot \n",
    "fig = plt.figure(figsize = (16,6),facecolor= '#F2F2F2')\n",
    "ax = fig.add_subplot(111)\n",
    "ax.set_facecolor('#F2F2F2')\n",
    " \n",
    "#fig.set_facecolor('#F2F2F2')\n",
    "g=sns.boxplot(x=\"target\", y=\"contract_month\",\n",
    "            hue=\"load_date\", palette=[\"m\", \"g\"],\n",
    "            data=df,\n",
    "            showfliers = False,\n",
    "            showmeans= True\n",
    "            )\n",
    "medians = df.groupby(['target','load_date'])['contract_month'].median()\n",
    "vertical_offset = df['contract_month'].median() * 0.05 # offset from median for display\n",
    " \n",
    "#for xtick in g.get_xticks():\n",
    "#    g.text(xtick,medians[xtick] + vertical_offset,medians[xtick],\n",
    "#            horizontalalignment='center',size='x-small',color='w',weight='semibold')\n",
    " \n",
    "plt.legend(loc='upper right')\n",
    "#plt.show()\n",
    "g.set_ylim(-80,50)\n",
    "#g.despine(offset=10, trim=True)\n",
    " "
   ]
  },
  {
   "cell_type": "code",
   "execution_count": 22,
   "id": "5a75a271-eec3-4f36-9511-14147a95fcf6",
   "metadata": {},
   "outputs": [
    {
     "data": {
      "text/plain": [
       "(0.0, 50.0)"
      ]
     },
     "execution_count": 22,
     "metadata": {},
     "output_type": "execute_result"
    },
    {
     "data": {
      "image/png": "[encoded data removed]",
      "text/plain": [
       "<Figure size 1152x432 with 1 Axes>"
      ]
     },
     "metadata": {},
     "output_type": "display_data"
    }
   ],
   "source": [
    "# Draw a nested boxplot \n",
    "fig = plt.figure(figsize = (16,6),facecolor= '#F2F2F2')\n",
    "ax = fig.add_subplot(111)\n",
    "ax.set_facecolor('#F2F2F2')\n",
    " \n",
    "#fig.set_facecolor('#F2F2F2')\n",
    "g=sns.boxplot(x=\"target\", y=\"subs\",\n",
    "            hue=\"load_date\", palette=[\"m\", \"g\"],\n",
    "            data=df,\n",
    "            showfliers = False,\n",
    "            showmeans= True\n",
    "            )\n",
    "medians = df.groupby(['target','load_date'])['subs'].median()\n",
    "vertical_offset = df['subs'].median() * 0.05 # offset from median for display\n",
    " \n",
    "#for xtick in g.get_xticks():\n",
    "#    g.text(xtick,medians[xtick] + vertical_offset,medians[xtick],\n",
    "#            horizontalalignment='center',size='x-small',color='w',weight='semibold')\n",
    " \n",
    "plt.legend(loc='upper right')\n",
    "#plt.show()\n",
    "g.set_ylim(0,50)\n",
    "#g.despine(offset=10, trim=True)"
   ]
  },
  {
   "cell_type": "code",
   "execution_count": 23,
   "id": "684fabe0-f162-49e4-86d7-a4f5a90d01de",
   "metadata": {},
   "outputs": [
    {
     "data": {
      "text/plain": [
       "(-2.0, 100.0)"
      ]
     },
     "execution_count": 23,
     "metadata": {},
     "output_type": "execute_result"
    },
    {
     "data": {
      "image/png": "[encoded data removed]",
      "text/plain": [
       "<Figure size 1152x432 with 1 Axes>"
      ]
     },
     "metadata": {},
     "output_type": "display_data"
    }
   ],
   "source": [
    "# Draw a nested boxplot \n",
    "fig = plt.figure(figsize = (16,6),facecolor= '#F2F2F2')\n",
    "ax = fig.add_subplot(111)\n",
    "ax.set_facecolor('#F2F2F2')\n",
    " \n",
    "#fig.set_facecolor('#F2F2F2')\n",
    "g=sns.boxplot(x=\"target\", y=\"age_id_2\",\n",
    "            hue=\"load_date\", palette=[\"m\", \"g\"],\n",
    "            data=df,\n",
    "            showfliers = False,\n",
    "            showmeans= True\n",
    "            )\n",
    "medians = df.groupby(['target','load_date'])['age_id_2'].median()\n",
    "vertical_offset = df['age_id_2'].median() * 0.05 # offset from median for display\n",
    " \n",
    "#for xtick in g.get_xticks():\n",
    "#    g.text(xtick,medians[xtick] + vertical_offset,medians[xtick],\n",
    "#            horizontalalignment='center',size='x-small',color='w',weight='semibold')\n",
    " \n",
    "plt.legend(loc='upper right')\n",
    "#plt.show()\n",
    "g.set_ylim(-2,100)\n",
    "#g.despine(offset=10, trim=True)"
   ]
  },
  {
   "cell_type": "code",
   "execution_count": 24,
   "id": "e4a377d1-38b0-4fba-9721-ef7204b4bf94",
   "metadata": {},
   "outputs": [
    {
     "data": {
      "text/plain": [
       "(-2.0, 80.0)"
      ]
     },
     "execution_count": 24,
     "metadata": {},
     "output_type": "execute_result"
    },
    {
     "data": {
      "image/png": "[encoded data removed]",
      "text/plain": [
       "<Figure size 1152x432 with 1 Axes>"
      ]
     },
     "metadata": {},
     "output_type": "display_data"
    }
   ],
   "source": [
    "# table `prj-vo-p-data-cldphub-01.vodata_cdm_curated.imei_used_track` started on 2022-12-31, so no data for DEC 22\n",
    "\n",
    "# Draw a nested boxplot \n",
    "fig = plt.figure(figsize = (16,6),facecolor= '#F2F2F2')\n",
    "ax = fig.add_subplot(111)\n",
    "ax.set_facecolor('#F2F2F2')\n",
    " \n",
    "#fig.set_facecolor('#F2F2F2')\n",
    "g=sns.boxplot(x=\"target\", y=\"days_on_current_imei\",\n",
    "            hue=\"load_date\", palette=[\"m\", \"g\"],\n",
    "            data=df,\n",
    "            showfliers = False,\n",
    "            showmeans= True\n",
    "            )\n",
    "medians = df.groupby(['target','load_date'])['days_on_current_imei'].median()\n",
    "vertical_offset = df['days_on_current_imei'].median() * 0.05 # offset from median for display\n",
    " \n",
    "#for xtick in g.get_xticks():\n",
    "#    g.text(xtick,medians[xtick] + vertical_offset,medians[xtick],\n",
    "#            horizontalalignment='center',size='x-small',color='w',weight='semibold')\n",
    " \n",
    "plt.legend(loc='upper right')\n",
    "#plt.show()\n",
    "g.set_ylim(-2,80)\n",
    "#g.despine(offset=10, trim=True)"
   ]
  },
  {
   "cell_type": "code",
   "execution_count": 32,
   "id": "bd343273-2195-4f3d-aff6-3ce67d19cfe5",
   "metadata": {},
   "outputs": [
    {
     "data": {
      "text/plain": [
       "(1024.0, 350000.0)"
      ]
     },
     "execution_count": 32,
     "metadata": {},
     "output_type": "execute_result"
    },
    {
     "data": {
      "image/png": "[encoded data removed]",
      "text/plain": [
       "<Figure size 1152x432 with 1 Axes>"
      ]
     },
     "metadata": {},
     "output_type": "display_data"
    }
   ],
   "source": [
    "\n",
    "# Draw a nested boxplot \n",
    "fig = plt.figure(figsize = (16,6),facecolor= '#F2F2F2')\n",
    "ax = fig.add_subplot(111)\n",
    "ax.set_facecolor('#F2F2F2')\n",
    " \n",
    "#fig.set_facecolor('#F2F2F2')\n",
    "g=sns.boxplot(x=\"target\", y=\"final_data_allowance\",\n",
    "            hue=\"load_date\", palette=[\"m\", \"g\"],\n",
    "            data=df,\n",
    "            showfliers = False,\n",
    "            showmeans= True\n",
    "            )\n",
    "medians = df.groupby(['target','load_date'])['final_data_allowance'].median()\n",
    "vertical_offset = df['final_data_allowance'].median() * 0.05 # offset from median for display\n",
    " \n",
    "#for xtick in g.get_xticks():\n",
    "#    g.text(xtick,medians[xtick] + vertical_offset,medians[xtick],\n",
    "#            horizontalalignment='center',size='x-small',color='w',weight='semibold')\n",
    " \n",
    "plt.legend(loc='upper right')\n",
    "#plt.show()\n",
    "g.set_ylim(1024,350000)\n",
    "#g.despine(offset=10, trim=True)"
   ]
  },
  {
   "cell_type": "code",
   "execution_count": 31,
   "id": "892875ea-06a6-42ed-bb2e-eae7c84b72dd",
   "metadata": {},
   "outputs": [
    {
     "data": {
      "text/plain": [
       "(1024.0, 350000.0)"
      ]
     },
     "execution_count": 31,
     "metadata": {},
     "output_type": "execute_result"
    },
    {
     "data": {
      "image/png": "[encoded data removed]",
      "text/plain": [
       "<Figure size 1152x432 with 1 Axes>"
      ]
     },
     "metadata": {},
     "output_type": "display_data"
    }
   ],
   "source": [
    "#contract type, target and final_data_allowance \n",
    "#Draw a nested boxplot \n",
    "fig = plt.figure(figsize = (16,6),facecolor= '#F2F2F2')\n",
    "ax = fig.add_subplot(111)\n",
    "ax.set_facecolor('#F2F2F2')\n",
    " \n",
    "#fig.set_facecolor('#F2F2F2')\n",
    "g=sns.boxplot(x=\"contract_type\", y=\"final_data_allowance\",\n",
    "            hue=\"target\", palette=[\"m\", \"g\"],\n",
    "            data=df,\n",
    "            showfliers = False,\n",
    "            showmeans= True\n",
    "            )\n",
    "medians = df.groupby(['contract_type', 'target'])['final_data_allowance'].median()\n",
    "vertical_offset = df['final_data_allowance'].median()* 0.05  # offset from median for display\n",
    " \n",
    "#for xtick in g.get_xticks():\n",
    "#    g.text(xtick,medians[xtick] + vertical_offset,medians[xtick],\n",
    "#            horizontalalignment='center',size='x-small',color='w',weight='semibold')\n",
    " \n",
    "plt.legend(loc='upper right')\n",
    "#plt.show()\n",
    "g.set_ylim(1024,350000)\n",
    "#g.despine(offset=10, trim=True)"
   ]
  },
  {
   "cell_type": "code",
   "execution_count": 29,
   "id": "77fdacf9-4b9e-4ac9-996a-9d725a418ef3",
   "metadata": {},
   "outputs": [
    {
     "name": "stdout",
     "output_type": "stream",
     "text": [
      "2023-02-28    17217\n",
      "2023-01-31    11894\n",
      "2022-12-31     7133\n",
      "Name: ref_date, dtype: int64\n"
     ]
    }
   ],
   "source": [
    "  print(df['ref_date'].value_counts(dropna=False))"
   ]
  },
  {
   "cell_type": "code",
   "execution_count": 30,
   "id": "b104b271-8b13-4da8-b410-f83a21f93f43",
   "metadata": {},
   "outputs": [
    {
     "name": "stdout",
     "output_type": "stream",
     "text": [
      "2023-02-28    17217\n",
      "2023-01-31    11894\n",
      "2022-12-31     7133\n",
      "Name: load_date, dtype: int64\n"
     ]
    }
   ],
   "source": [
    "  print(df['load_date'].value_counts(dropna=False))"
   ]
  },
  {
   "cell_type": "code",
   "execution_count": null,
   "id": "3d4233be-1e31-4c09-940d-c8e7f3c65e9b",
   "metadata": {},
   "outputs": [],
   "source": []
  }
 ],
 "metadata": {
  "environment": {
   "kernel": "conda-root-py",
   "name": "workbench-notebooks.m115",
   "type": "gcloud",
   "uri": "gcr.io/deeplearning-platform-release/workbench-notebooks:m115"
  },
  "kernelspec": {
   "display_name": "Python 3 (ipykernel) (Local)",
   "language": "python",
   "name": "conda-root-py"
  },
  "language_info": {
   "codemirror_mode": {
    "name": "ipython",
    "version": 3
   },
   "file_extension": ".py",
   "mimetype": "text/x-python",
   "name": "python",
   "nbconvert_exporter": "python",
   "pygments_lexer": "ipython3",
   "version": "3.10.13"
  }
 },
 "nbformat": 4,
 "nbformat_minor": 5
}
